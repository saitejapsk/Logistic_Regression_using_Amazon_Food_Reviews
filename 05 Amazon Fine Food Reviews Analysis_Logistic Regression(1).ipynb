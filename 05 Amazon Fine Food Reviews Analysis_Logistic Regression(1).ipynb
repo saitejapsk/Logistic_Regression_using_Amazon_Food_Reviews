{
 "cells": [
  {
   "cell_type": "markdown",
   "metadata": {
    "colab_type": "text",
    "id": "AM7jsfwALPlp"
   },
   "source": [
    "# Amazon Fine Food Reviews Analysis\n",
    "\n",
    "\n",
    "Data Source: https://www.kaggle.com/snap/amazon-fine-food-reviews <br>\n",
    "\n",
    "EDA: https://nycdatascience.com/blog/student-works/amazon-fine-foods-visualization/\n",
    "\n",
    "\n",
    "The Amazon Fine Food Reviews dataset consists of reviews of fine foods from Amazon.<br>\n",
    "\n",
    "Number of reviews: 568,454<br>\n",
    "Number of users: 256,059<br>\n",
    "Number of products: 74,258<br>\n",
    "Timespan: Oct 1999 - Oct 2012<br>\n",
    "Number of Attributes/Columns in data: 10 \n",
    "\n",
    "Attribute Information:\n",
    "\n",
    "1. Id\n",
    "2. ProductId - unique identifier for the product\n",
    "3. UserId - unqiue identifier for the user\n",
    "4. ProfileName\n",
    "5. HelpfulnessNumerator - number of users who found the review helpful\n",
    "6. HelpfulnessDenominator - number of users who indicated whether they found the review helpful or not\n",
    "7. Score - rating between 1 and 5\n",
    "8. Time - timestamp for the review\n",
    "9. Summary - brief summary of the review\n",
    "10. Text - text of the review\n",
    "\n",
    "\n",
    "#### Objective:\n",
    "Given a review, determine whether the review is positive (rating of 4 or 5) or negative (rating of 1 or 2).\n",
    "\n",
    "<br>\n",
    "[Q] How to determine if a review is positive or negative?<br>\n",
    "<br> \n",
    "[Ans] We could use Score/Rating. A rating of 4 or 5 can be cosnidered as a positive review. A rating of 1 or 2 can be considered as negative one. A review of rating 3 is considered nuetral and such reviews are ignored from our analysis. This is an approximate and proxy way of determining the polarity (positivity/negativity) of a review.\n",
    "\n",
    "\n"
   ]
  },
  {
   "cell_type": "markdown",
   "metadata": {
    "colab_type": "text",
    "id": "CaQ7XJ4OLPls"
   },
   "source": [
    "# [1]. Reading Data"
   ]
  },
  {
   "cell_type": "markdown",
   "metadata": {
    "colab_type": "text",
    "id": "5VnEBjKRLPlu"
   },
   "source": [
    "## [1.1] Loading the data\n",
    "\n",
    "The dataset is available in two forms\n",
    "1. .csv file\n",
    "2. SQLite Database\n",
    "\n",
    "In order to load the data, We have used the SQLITE dataset as it is easier to query the data and visualise the data efficiently.\n",
    "<br> \n",
    "\n",
    "Here as we only want to get the global sentiment of the recommendations (positive or negative), we will purposefully ignore all Scores equal to 3. If the score is above 3, then the recommendation wil be set to \"positive\". Otherwise, it will be set to \"negative\"."
   ]
  },
  {
   "cell_type": "code",
   "execution_count": 1,
   "metadata": {
    "colab": {},
    "colab_type": "code",
    "id": "x6YclOzXLPlv"
   },
   "outputs": [],
   "source": [
    "#Refered/code-reusebility from ipynb from applied_ai_course notes \n",
    "\n",
    "%matplotlib inline\n",
    "import warnings\n",
    "warnings.filterwarnings(\"ignore\")\n",
    "import sqlite3\n",
    "import pandas as pd\n",
    "import numpy as np\n",
    "import nltk\n",
    "import string\n",
    "import matplotlib.pyplot as plt\n",
    "import seaborn as sns"
   ]
  },
  {
   "cell_type": "code",
   "execution_count": 3,
   "metadata": {
    "colab": {},
    "colab_type": "code",
    "id": "NZ4OSpSiLPl0",
    "outputId": "241c4c64-6186-4351-e38f-fcd06c6896dd"
   },
   "outputs": [
    {
     "name": "stdout",
     "output_type": "stream",
     "text": [
      "Number of data points in our data (100000, 10)\n"
     ]
    },
    {
     "data": {
      "text/html": [
       "<div>\n",
       "<style scoped>\n",
       "    .dataframe tbody tr th:only-of-type {\n",
       "        vertical-align: middle;\n",
       "    }\n",
       "\n",
       "    .dataframe tbody tr th {\n",
       "        vertical-align: top;\n",
       "    }\n",
       "\n",
       "    .dataframe thead th {\n",
       "        text-align: right;\n",
       "    }\n",
       "</style>\n",
       "<table border=\"1\" class=\"dataframe\">\n",
       "  <thead>\n",
       "    <tr style=\"text-align: right;\">\n",
       "      <th></th>\n",
       "      <th>Id</th>\n",
       "      <th>ProductId</th>\n",
       "      <th>UserId</th>\n",
       "      <th>ProfileName</th>\n",
       "      <th>HelpfulnessNumerator</th>\n",
       "      <th>HelpfulnessDenominator</th>\n",
       "      <th>Score</th>\n",
       "      <th>Time</th>\n",
       "      <th>Summary</th>\n",
       "      <th>Text</th>\n",
       "    </tr>\n",
       "  </thead>\n",
       "  <tbody>\n",
       "    <tr>\n",
       "      <th>0</th>\n",
       "      <td>1</td>\n",
       "      <td>B001E4KFG0</td>\n",
       "      <td>A3SGXH7AUHU8GW</td>\n",
       "      <td>delmartian</td>\n",
       "      <td>1</td>\n",
       "      <td>1</td>\n",
       "      <td>1</td>\n",
       "      <td>1303862400</td>\n",
       "      <td>Good Quality Dog Food</td>\n",
       "      <td>I have bought several of the Vitality canned d...</td>\n",
       "    </tr>\n",
       "    <tr>\n",
       "      <th>1</th>\n",
       "      <td>2</td>\n",
       "      <td>B00813GRG4</td>\n",
       "      <td>A1D87F6ZCVE5NK</td>\n",
       "      <td>dll pa</td>\n",
       "      <td>0</td>\n",
       "      <td>0</td>\n",
       "      <td>0</td>\n",
       "      <td>1346976000</td>\n",
       "      <td>Not as Advertised</td>\n",
       "      <td>Product arrived labeled as Jumbo Salted Peanut...</td>\n",
       "    </tr>\n",
       "    <tr>\n",
       "      <th>2</th>\n",
       "      <td>3</td>\n",
       "      <td>B000LQOCH0</td>\n",
       "      <td>ABXLMWJIXXAIN</td>\n",
       "      <td>Natalia Corres \"Natalia Corres\"</td>\n",
       "      <td>1</td>\n",
       "      <td>1</td>\n",
       "      <td>1</td>\n",
       "      <td>1219017600</td>\n",
       "      <td>\"Delight\" says it all</td>\n",
       "      <td>This is a confection that has been around a fe...</td>\n",
       "    </tr>\n",
       "  </tbody>\n",
       "</table>\n",
       "</div>"
      ],
      "text/plain": [
       "   Id   ProductId          UserId                      ProfileName  \\\n",
       "0   1  B001E4KFG0  A3SGXH7AUHU8GW                       delmartian   \n",
       "1   2  B00813GRG4  A1D87F6ZCVE5NK                           dll pa   \n",
       "2   3  B000LQOCH0   ABXLMWJIXXAIN  Natalia Corres \"Natalia Corres\"   \n",
       "\n",
       "   HelpfulnessNumerator  HelpfulnessDenominator  Score        Time  \\\n",
       "0                     1                       1      1  1303862400   \n",
       "1                     0                       0      0  1346976000   \n",
       "2                     1                       1      1  1219017600   \n",
       "\n",
       "                 Summary                                               Text  \n",
       "0  Good Quality Dog Food  I have bought several of the Vitality canned d...  \n",
       "1      Not as Advertised  Product arrived labeled as Jumbo Salted Peanut...  \n",
       "2  \"Delight\" says it all  This is a confection that has been around a fe...  "
      ]
     },
     "execution_count": 3,
     "metadata": {},
     "output_type": "execute_result"
    }
   ],
   "source": [
    "# using SQLite Table to read data.\n",
    "con = sqlite3.connect('database.sqlite') \n",
    "\n",
    "# filtering only positive and negative reviews i.e. \n",
    "# not taking into consideration those reviews with Score=3\n",
    "# SELECT * FROM Reviews WHERE Score != 3 LIMIT 500000, will give top 500000 data points\n",
    "# you can change the number to any other number based on your computing power\n",
    "\n",
    "# filtered_data = pd.read_sql_query(\"\"\" SELECT * FROM Reviews WHERE Score != 3 LIMIT 500000\"\"\", con) \n",
    "# for tsne assignment you can take 5k data points\n",
    "\n",
    "filtered_data = pd.read_sql_query(\"\"\" SELECT * FROM Reviews WHERE Score != 3 LIMIT 100000\"\"\", con) \n",
    "\n",
    "# Give reviews with Score>3 a positive rating(1), and reviews with a score<3 a negative rating(0).\n",
    "def partition(x):\n",
    "    if x < 3:\n",
    "        return 0\n",
    "    return 1\n",
    "\n",
    "#changing reviews with score less than 3 to be positive and vice-versa\n",
    "actualScore = filtered_data['Score']\n",
    "positiveNegative = actualScore.map(partition) \n",
    "filtered_data['Score'] = positiveNegative\n",
    "print(\"Number of data points in our data\", filtered_data.shape)\n",
    "filtered_data.head(3)"
   ]
  },
  {
   "cell_type": "code",
   "execution_count": 4,
   "metadata": {
    "colab": {},
    "colab_type": "code",
    "id": "r44Y4VDjLPl7"
   },
   "outputs": [],
   "source": [
    "display = pd.read_sql_query(\"\"\"\n",
    "SELECT UserId, ProductId, ProfileName, Time, Score, Text, COUNT(*)\n",
    "FROM Reviews\n",
    "GROUP BY UserId\n",
    "HAVING COUNT(*)>1\n",
    "\"\"\", con)"
   ]
  },
  {
   "cell_type": "code",
   "execution_count": 5,
   "metadata": {
    "colab": {},
    "colab_type": "code",
    "id": "tTwINQv1LPl_",
    "outputId": "0385b9ca-0a35-4c2b-b656-8e8494414e6f",
    "scrolled": true
   },
   "outputs": [
    {
     "name": "stdout",
     "output_type": "stream",
     "text": [
      "(80668, 7)\n"
     ]
    },
    {
     "data": {
      "text/html": [
       "<div>\n",
       "<style scoped>\n",
       "    .dataframe tbody tr th:only-of-type {\n",
       "        vertical-align: middle;\n",
       "    }\n",
       "\n",
       "    .dataframe tbody tr th {\n",
       "        vertical-align: top;\n",
       "    }\n",
       "\n",
       "    .dataframe thead th {\n",
       "        text-align: right;\n",
       "    }\n",
       "</style>\n",
       "<table border=\"1\" class=\"dataframe\">\n",
       "  <thead>\n",
       "    <tr style=\"text-align: right;\">\n",
       "      <th></th>\n",
       "      <th>UserId</th>\n",
       "      <th>ProductId</th>\n",
       "      <th>ProfileName</th>\n",
       "      <th>Time</th>\n",
       "      <th>Score</th>\n",
       "      <th>Text</th>\n",
       "      <th>COUNT(*)</th>\n",
       "    </tr>\n",
       "  </thead>\n",
       "  <tbody>\n",
       "    <tr>\n",
       "      <th>0</th>\n",
       "      <td>#oc-R115TNMSPFT9I7</td>\n",
       "      <td>B007Y59HVM</td>\n",
       "      <td>Breyton</td>\n",
       "      <td>1331510400</td>\n",
       "      <td>2</td>\n",
       "      <td>Overall its just OK when considering the price...</td>\n",
       "      <td>2</td>\n",
       "    </tr>\n",
       "    <tr>\n",
       "      <th>1</th>\n",
       "      <td>#oc-R11D9D7SHXIJB9</td>\n",
       "      <td>B005HG9ET0</td>\n",
       "      <td>Louis E. Emory \"hoppy\"</td>\n",
       "      <td>1342396800</td>\n",
       "      <td>5</td>\n",
       "      <td>My wife has recurring extreme muscle spasms, u...</td>\n",
       "      <td>3</td>\n",
       "    </tr>\n",
       "    <tr>\n",
       "      <th>2</th>\n",
       "      <td>#oc-R11DNU2NBKQ23Z</td>\n",
       "      <td>B007Y59HVM</td>\n",
       "      <td>Kim Cieszykowski</td>\n",
       "      <td>1348531200</td>\n",
       "      <td>1</td>\n",
       "      <td>This coffee is horrible and unfortunately not ...</td>\n",
       "      <td>2</td>\n",
       "    </tr>\n",
       "    <tr>\n",
       "      <th>3</th>\n",
       "      <td>#oc-R11O5J5ZVQE25C</td>\n",
       "      <td>B005HG9ET0</td>\n",
       "      <td>Penguin Chick</td>\n",
       "      <td>1346889600</td>\n",
       "      <td>5</td>\n",
       "      <td>This will be the bottle that you grab from the...</td>\n",
       "      <td>3</td>\n",
       "    </tr>\n",
       "    <tr>\n",
       "      <th>4</th>\n",
       "      <td>#oc-R12KPBODL2B5ZD</td>\n",
       "      <td>B007OSBE1U</td>\n",
       "      <td>Christopher P. Presta</td>\n",
       "      <td>1348617600</td>\n",
       "      <td>1</td>\n",
       "      <td>I didnt like this coffee. Instead of telling y...</td>\n",
       "      <td>2</td>\n",
       "    </tr>\n",
       "  </tbody>\n",
       "</table>\n",
       "</div>"
      ],
      "text/plain": [
       "               UserId   ProductId             ProfileName        Time  Score  \\\n",
       "0  #oc-R115TNMSPFT9I7  B007Y59HVM                 Breyton  1331510400      2   \n",
       "1  #oc-R11D9D7SHXIJB9  B005HG9ET0  Louis E. Emory \"hoppy\"  1342396800      5   \n",
       "2  #oc-R11DNU2NBKQ23Z  B007Y59HVM        Kim Cieszykowski  1348531200      1   \n",
       "3  #oc-R11O5J5ZVQE25C  B005HG9ET0           Penguin Chick  1346889600      5   \n",
       "4  #oc-R12KPBODL2B5ZD  B007OSBE1U   Christopher P. Presta  1348617600      1   \n",
       "\n",
       "                                                Text  COUNT(*)  \n",
       "0  Overall its just OK when considering the price...         2  \n",
       "1  My wife has recurring extreme muscle spasms, u...         3  \n",
       "2  This coffee is horrible and unfortunately not ...         2  \n",
       "3  This will be the bottle that you grab from the...         3  \n",
       "4  I didnt like this coffee. Instead of telling y...         2  "
      ]
     },
     "execution_count": 5,
     "metadata": {},
     "output_type": "execute_result"
    }
   ],
   "source": [
    "print(display.shape)\n",
    "display.head()"
   ]
  },
  {
   "cell_type": "code",
   "execution_count": 6,
   "metadata": {
    "colab": {},
    "colab_type": "code",
    "id": "EOslHQgnLPmF",
    "outputId": "cb28598d-470a-42bb-e742-4763f953c8cb"
   },
   "outputs": [
    {
     "data": {
      "text/html": [
       "<div>\n",
       "<style scoped>\n",
       "    .dataframe tbody tr th:only-of-type {\n",
       "        vertical-align: middle;\n",
       "    }\n",
       "\n",
       "    .dataframe tbody tr th {\n",
       "        vertical-align: top;\n",
       "    }\n",
       "\n",
       "    .dataframe thead th {\n",
       "        text-align: right;\n",
       "    }\n",
       "</style>\n",
       "<table border=\"1\" class=\"dataframe\">\n",
       "  <thead>\n",
       "    <tr style=\"text-align: right;\">\n",
       "      <th></th>\n",
       "      <th>UserId</th>\n",
       "      <th>ProductId</th>\n",
       "      <th>ProfileName</th>\n",
       "      <th>Time</th>\n",
       "      <th>Score</th>\n",
       "      <th>Text</th>\n",
       "      <th>COUNT(*)</th>\n",
       "    </tr>\n",
       "  </thead>\n",
       "  <tbody>\n",
       "    <tr>\n",
       "      <th>80638</th>\n",
       "      <td>AZY10LLTJ71NX</td>\n",
       "      <td>B006P7E5ZI</td>\n",
       "      <td>undertheshrine \"undertheshrine\"</td>\n",
       "      <td>1334707200</td>\n",
       "      <td>5</td>\n",
       "      <td>I was recommended to try green tea extract to ...</td>\n",
       "      <td>5</td>\n",
       "    </tr>\n",
       "  </tbody>\n",
       "</table>\n",
       "</div>"
      ],
      "text/plain": [
       "              UserId   ProductId                      ProfileName        Time  \\\n",
       "80638  AZY10LLTJ71NX  B006P7E5ZI  undertheshrine \"undertheshrine\"  1334707200   \n",
       "\n",
       "       Score                                               Text  COUNT(*)  \n",
       "80638      5  I was recommended to try green tea extract to ...         5  "
      ]
     },
     "execution_count": 6,
     "metadata": {},
     "output_type": "execute_result"
    }
   ],
   "source": [
    "display[display['UserId']=='AZY10LLTJ71NX']"
   ]
  },
  {
   "cell_type": "code",
   "execution_count": 7,
   "metadata": {
    "colab": {},
    "colab_type": "code",
    "id": "pSwF4sdoLPmM",
    "outputId": "2f3bd7f2-0eea-45f7-eab6-bf08c630d9a3"
   },
   "outputs": [
    {
     "data": {
      "text/plain": [
       "393063"
      ]
     },
     "execution_count": 7,
     "metadata": {},
     "output_type": "execute_result"
    }
   ],
   "source": [
    "display['COUNT(*)'].sum()"
   ]
  },
  {
   "cell_type": "markdown",
   "metadata": {
    "colab_type": "text",
    "id": "PuNkhjz0LPmQ"
   },
   "source": [
    "#  [2] Exploratory Data Analysis"
   ]
  },
  {
   "cell_type": "markdown",
   "metadata": {
    "colab_type": "text",
    "id": "oCJaTWrTLPmS"
   },
   "source": [
    "## [2.1] Data Cleaning: Deduplication\n",
    "\n",
    "It is observed (as shown in the table below) that the reviews data had many duplicate entries. Hence it was necessary to remove duplicates in order to get unbiased results for the analysis of the data.  Following is an example:"
   ]
  },
  {
   "cell_type": "code",
   "execution_count": 8,
   "metadata": {
    "colab": {},
    "colab_type": "code",
    "id": "3lvzRwWVLPmT",
    "outputId": "96ba6f90-6c40-4972-ecd2-d2d208e48877",
    "scrolled": false
   },
   "outputs": [
    {
     "data": {
      "text/html": [
       "<div>\n",
       "<style scoped>\n",
       "    .dataframe tbody tr th:only-of-type {\n",
       "        vertical-align: middle;\n",
       "    }\n",
       "\n",
       "    .dataframe tbody tr th {\n",
       "        vertical-align: top;\n",
       "    }\n",
       "\n",
       "    .dataframe thead th {\n",
       "        text-align: right;\n",
       "    }\n",
       "</style>\n",
       "<table border=\"1\" class=\"dataframe\">\n",
       "  <thead>\n",
       "    <tr style=\"text-align: right;\">\n",
       "      <th></th>\n",
       "      <th>Id</th>\n",
       "      <th>ProductId</th>\n",
       "      <th>UserId</th>\n",
       "      <th>ProfileName</th>\n",
       "      <th>HelpfulnessNumerator</th>\n",
       "      <th>HelpfulnessDenominator</th>\n",
       "      <th>Score</th>\n",
       "      <th>Time</th>\n",
       "      <th>Summary</th>\n",
       "      <th>Text</th>\n",
       "    </tr>\n",
       "  </thead>\n",
       "  <tbody>\n",
       "    <tr>\n",
       "      <th>0</th>\n",
       "      <td>78445</td>\n",
       "      <td>B000HDL1RQ</td>\n",
       "      <td>AR5J8UI46CURR</td>\n",
       "      <td>Geetha Krishnan</td>\n",
       "      <td>2</td>\n",
       "      <td>2</td>\n",
       "      <td>5</td>\n",
       "      <td>1199577600</td>\n",
       "      <td>LOACKER QUADRATINI VANILLA WAFERS</td>\n",
       "      <td>DELICIOUS WAFERS. I FIND THAT EUROPEAN WAFERS ...</td>\n",
       "    </tr>\n",
       "    <tr>\n",
       "      <th>1</th>\n",
       "      <td>138317</td>\n",
       "      <td>B000HDOPYC</td>\n",
       "      <td>AR5J8UI46CURR</td>\n",
       "      <td>Geetha Krishnan</td>\n",
       "      <td>2</td>\n",
       "      <td>2</td>\n",
       "      <td>5</td>\n",
       "      <td>1199577600</td>\n",
       "      <td>LOACKER QUADRATINI VANILLA WAFERS</td>\n",
       "      <td>DELICIOUS WAFERS. I FIND THAT EUROPEAN WAFERS ...</td>\n",
       "    </tr>\n",
       "    <tr>\n",
       "      <th>2</th>\n",
       "      <td>138277</td>\n",
       "      <td>B000HDOPYM</td>\n",
       "      <td>AR5J8UI46CURR</td>\n",
       "      <td>Geetha Krishnan</td>\n",
       "      <td>2</td>\n",
       "      <td>2</td>\n",
       "      <td>5</td>\n",
       "      <td>1199577600</td>\n",
       "      <td>LOACKER QUADRATINI VANILLA WAFERS</td>\n",
       "      <td>DELICIOUS WAFERS. I FIND THAT EUROPEAN WAFERS ...</td>\n",
       "    </tr>\n",
       "    <tr>\n",
       "      <th>3</th>\n",
       "      <td>73791</td>\n",
       "      <td>B000HDOPZG</td>\n",
       "      <td>AR5J8UI46CURR</td>\n",
       "      <td>Geetha Krishnan</td>\n",
       "      <td>2</td>\n",
       "      <td>2</td>\n",
       "      <td>5</td>\n",
       "      <td>1199577600</td>\n",
       "      <td>LOACKER QUADRATINI VANILLA WAFERS</td>\n",
       "      <td>DELICIOUS WAFERS. I FIND THAT EUROPEAN WAFERS ...</td>\n",
       "    </tr>\n",
       "    <tr>\n",
       "      <th>4</th>\n",
       "      <td>155049</td>\n",
       "      <td>B000PAQ75C</td>\n",
       "      <td>AR5J8UI46CURR</td>\n",
       "      <td>Geetha Krishnan</td>\n",
       "      <td>2</td>\n",
       "      <td>2</td>\n",
       "      <td>5</td>\n",
       "      <td>1199577600</td>\n",
       "      <td>LOACKER QUADRATINI VANILLA WAFERS</td>\n",
       "      <td>DELICIOUS WAFERS. I FIND THAT EUROPEAN WAFERS ...</td>\n",
       "    </tr>\n",
       "  </tbody>\n",
       "</table>\n",
       "</div>"
      ],
      "text/plain": [
       "       Id   ProductId         UserId      ProfileName  HelpfulnessNumerator  \\\n",
       "0   78445  B000HDL1RQ  AR5J8UI46CURR  Geetha Krishnan                     2   \n",
       "1  138317  B000HDOPYC  AR5J8UI46CURR  Geetha Krishnan                     2   \n",
       "2  138277  B000HDOPYM  AR5J8UI46CURR  Geetha Krishnan                     2   \n",
       "3   73791  B000HDOPZG  AR5J8UI46CURR  Geetha Krishnan                     2   \n",
       "4  155049  B000PAQ75C  AR5J8UI46CURR  Geetha Krishnan                     2   \n",
       "\n",
       "   HelpfulnessDenominator  Score        Time  \\\n",
       "0                       2      5  1199577600   \n",
       "1                       2      5  1199577600   \n",
       "2                       2      5  1199577600   \n",
       "3                       2      5  1199577600   \n",
       "4                       2      5  1199577600   \n",
       "\n",
       "                             Summary  \\\n",
       "0  LOACKER QUADRATINI VANILLA WAFERS   \n",
       "1  LOACKER QUADRATINI VANILLA WAFERS   \n",
       "2  LOACKER QUADRATINI VANILLA WAFERS   \n",
       "3  LOACKER QUADRATINI VANILLA WAFERS   \n",
       "4  LOACKER QUADRATINI VANILLA WAFERS   \n",
       "\n",
       "                                                Text  \n",
       "0  DELICIOUS WAFERS. I FIND THAT EUROPEAN WAFERS ...  \n",
       "1  DELICIOUS WAFERS. I FIND THAT EUROPEAN WAFERS ...  \n",
       "2  DELICIOUS WAFERS. I FIND THAT EUROPEAN WAFERS ...  \n",
       "3  DELICIOUS WAFERS. I FIND THAT EUROPEAN WAFERS ...  \n",
       "4  DELICIOUS WAFERS. I FIND THAT EUROPEAN WAFERS ...  "
      ]
     },
     "execution_count": 8,
     "metadata": {},
     "output_type": "execute_result"
    }
   ],
   "source": [
    "display= pd.read_sql_query(\"\"\"\n",
    "SELECT *\n",
    "FROM Reviews\n",
    "WHERE Score != 3 AND UserId=\"AR5J8UI46CURR\"\n",
    "ORDER BY ProductID\n",
    "\"\"\", con)\n",
    "display.head()"
   ]
  },
  {
   "cell_type": "markdown",
   "metadata": {
    "colab_type": "text",
    "id": "uT7p9_deLPmb"
   },
   "source": [
    "As it can be seen above that same user has multiple reviews with same values for HelpfulnessNumerator, HelpfulnessDenominator, Score, Time, Summary and Text and on doing analysis it was found that <br>\n",
    "<br> \n",
    "ProductId=B000HDOPZG was Loacker Quadratini Vanilla Wafer Cookies, 8.82-Ounce Packages (Pack of 8)<br>\n",
    "<br> \n",
    "ProductId=B000HDL1RQ was Loacker Quadratini Lemon Wafer Cookies, 8.82-Ounce Packages (Pack of 8) and so on<br>\n",
    "\n",
    "It was inferred after analysis that reviews with same parameters other than ProductId belonged to the same product just having different flavour or quantity. Hence in order to reduce redundancy it was decided to eliminate the rows having same parameters.<br>\n",
    "\n",
    "The method used for the same was that we first sort the data according to ProductId and then just keep the first similar product review and delelte the others. for eg. in the above just the review for ProductId=B000HDL1RQ remains. This method ensures that there is only one representative for each product and deduplication without sorting would lead to possibility of different representatives still existing for the same product."
   ]
  },
  {
   "cell_type": "code",
   "execution_count": 9,
   "metadata": {
    "colab": {},
    "colab_type": "code",
    "id": "mdsKFc50LPme"
   },
   "outputs": [],
   "source": [
    "#Sorting data according to ProductId in ascending order\n",
    "sorted_data=filtered_data.sort_values('ProductId', axis=0, ascending=True, inplace=False, kind='quicksort', na_position='last')"
   ]
  },
  {
   "cell_type": "code",
   "execution_count": 10,
   "metadata": {
    "colab": {},
    "colab_type": "code",
    "id": "2itLgX-NLPmk",
    "outputId": "ac765625-dfdc-4e4e-f886-bd3b7ca3635a"
   },
   "outputs": [
    {
     "data": {
      "text/plain": [
       "(87775, 10)"
      ]
     },
     "execution_count": 10,
     "metadata": {},
     "output_type": "execute_result"
    }
   ],
   "source": [
    "#Deduplication of entries\n",
    "final=sorted_data.drop_duplicates(subset={\"UserId\",\"ProfileName\",\"Time\",\"Text\"}, keep='first', inplace=False)\n",
    "final.shape"
   ]
  },
  {
   "cell_type": "code",
   "execution_count": 11,
   "metadata": {
    "colab": {},
    "colab_type": "code",
    "id": "IBU4iZk4LPmt",
    "outputId": "ceeba223-fe3f-407a-b4e5-0d46c08f69dd"
   },
   "outputs": [
    {
     "data": {
      "text/plain": [
       "87.775"
      ]
     },
     "execution_count": 11,
     "metadata": {},
     "output_type": "execute_result"
    }
   ],
   "source": [
    "#Checking to see how much % of data still remains\n",
    "(final['Id'].size*1.0)/(filtered_data['Id'].size*1.0)*100"
   ]
  },
  {
   "cell_type": "markdown",
   "metadata": {
    "colab_type": "text",
    "id": "gFBOfSe4LPmy"
   },
   "source": [
    "<b>Observation:-</b> It was also seen that in two rows given below the value of HelpfulnessNumerator is greater than HelpfulnessDenominator which is not practically possible hence these two rows too are removed from calcualtions"
   ]
  },
  {
   "cell_type": "code",
   "execution_count": 12,
   "metadata": {
    "colab": {},
    "colab_type": "code",
    "id": "50flE40lLPmz",
    "outputId": "b6c7e38e-25c1-4a48-be1f-70fdf31aba13"
   },
   "outputs": [
    {
     "data": {
      "text/html": [
       "<div>\n",
       "<style scoped>\n",
       "    .dataframe tbody tr th:only-of-type {\n",
       "        vertical-align: middle;\n",
       "    }\n",
       "\n",
       "    .dataframe tbody tr th {\n",
       "        vertical-align: top;\n",
       "    }\n",
       "\n",
       "    .dataframe thead th {\n",
       "        text-align: right;\n",
       "    }\n",
       "</style>\n",
       "<table border=\"1\" class=\"dataframe\">\n",
       "  <thead>\n",
       "    <tr style=\"text-align: right;\">\n",
       "      <th></th>\n",
       "      <th>Id</th>\n",
       "      <th>ProductId</th>\n",
       "      <th>UserId</th>\n",
       "      <th>ProfileName</th>\n",
       "      <th>HelpfulnessNumerator</th>\n",
       "      <th>HelpfulnessDenominator</th>\n",
       "      <th>Score</th>\n",
       "      <th>Time</th>\n",
       "      <th>Summary</th>\n",
       "      <th>Text</th>\n",
       "    </tr>\n",
       "  </thead>\n",
       "  <tbody>\n",
       "    <tr>\n",
       "      <th>0</th>\n",
       "      <td>64422</td>\n",
       "      <td>B000MIDROQ</td>\n",
       "      <td>A161DK06JJMCYF</td>\n",
       "      <td>J. E. Stephens \"Jeanne\"</td>\n",
       "      <td>3</td>\n",
       "      <td>1</td>\n",
       "      <td>5</td>\n",
       "      <td>1224892800</td>\n",
       "      <td>Bought This for My Son at College</td>\n",
       "      <td>My son loves spaghetti so I didn't hesitate or...</td>\n",
       "    </tr>\n",
       "    <tr>\n",
       "      <th>1</th>\n",
       "      <td>44737</td>\n",
       "      <td>B001EQ55RW</td>\n",
       "      <td>A2V0I904FH7ABY</td>\n",
       "      <td>Ram</td>\n",
       "      <td>3</td>\n",
       "      <td>2</td>\n",
       "      <td>4</td>\n",
       "      <td>1212883200</td>\n",
       "      <td>Pure cocoa taste with crunchy almonds inside</td>\n",
       "      <td>It was almost a 'love at first bite' - the per...</td>\n",
       "    </tr>\n",
       "  </tbody>\n",
       "</table>\n",
       "</div>"
      ],
      "text/plain": [
       "      Id   ProductId          UserId              ProfileName  \\\n",
       "0  64422  B000MIDROQ  A161DK06JJMCYF  J. E. Stephens \"Jeanne\"   \n",
       "1  44737  B001EQ55RW  A2V0I904FH7ABY                      Ram   \n",
       "\n",
       "   HelpfulnessNumerator  HelpfulnessDenominator  Score        Time  \\\n",
       "0                     3                       1      5  1224892800   \n",
       "1                     3                       2      4  1212883200   \n",
       "\n",
       "                                        Summary  \\\n",
       "0             Bought This for My Son at College   \n",
       "1  Pure cocoa taste with crunchy almonds inside   \n",
       "\n",
       "                                                Text  \n",
       "0  My son loves spaghetti so I didn't hesitate or...  \n",
       "1  It was almost a 'love at first bite' - the per...  "
      ]
     },
     "execution_count": 12,
     "metadata": {},
     "output_type": "execute_result"
    }
   ],
   "source": [
    "display= pd.read_sql_query(\"\"\"\n",
    "SELECT *\n",
    "FROM Reviews\n",
    "WHERE Score != 3 AND Id=44737 OR Id=64422\n",
    "ORDER BY ProductID\n",
    "\"\"\", con)\n",
    "\n",
    "display.head()"
   ]
  },
  {
   "cell_type": "code",
   "execution_count": 13,
   "metadata": {
    "colab": {},
    "colab_type": "code",
    "id": "0YTPJMLTLPm7"
   },
   "outputs": [],
   "source": [
    "final=final[final.HelpfulnessNumerator<=final.HelpfulnessDenominator]"
   ]
  },
  {
   "cell_type": "code",
   "execution_count": 14,
   "metadata": {
    "colab": {},
    "colab_type": "code",
    "id": "LVJ_l-x2LPnC",
    "outputId": "d4a19c7a-16fe-4b5b-c3d1-aa1ef0f948a0"
   },
   "outputs": [
    {
     "name": "stdout",
     "output_type": "stream",
     "text": [
      "(87773, 10)\n"
     ]
    },
    {
     "data": {
      "text/plain": [
       "1    73592\n",
       "0    14181\n",
       "Name: Score, dtype: int64"
      ]
     },
     "execution_count": 14,
     "metadata": {},
     "output_type": "execute_result"
    }
   ],
   "source": [
    "#Before starting the next phase of preprocessing lets see the number of entries left\n",
    "print(final.shape)\n",
    "\n",
    "#How many positive and negative reviews are present in our dataset?\n",
    "final['Score'].value_counts()"
   ]
  },
  {
   "cell_type": "markdown",
   "metadata": {
    "colab_type": "text",
    "id": "GrTYWzYrLPnH"
   },
   "source": [
    "#  [3] Preprocessing"
   ]
  },
  {
   "cell_type": "markdown",
   "metadata": {
    "colab_type": "text",
    "id": "zbvLitZeLPnI"
   },
   "source": [
    "## [3.1].  Preprocessing Review Text\n",
    "\n",
    "Now that we have finished deduplication our data requires some preprocessing before we go on further with analysis and making the prediction model.\n",
    "\n",
    "Hence in the Preprocessing phase we do the following in the order below:-\n",
    "\n",
    "1. Begin by removing the html tags\n",
    "2. Remove any punctuations or limited set of special characters like , or . or # etc.\n",
    "3. Check if the word is made up of english letters and is not alpha-numeric\n",
    "4. Check to see if the length of the word is greater than 2 (as it was researched that there is no adjective in 2-letters)\n",
    "5. Convert the word to lowercase\n",
    "6. Remove Stopwords\n",
    "7. Finally Snowball Stemming the word (it was obsereved to be better than Porter Stemming)<br>\n",
    "\n",
    "After which we collect the words used to describe positive and negative reviews"
   ]
  },
  {
   "cell_type": "code",
   "execution_count": 15,
   "metadata": {
    "colab": {},
    "colab_type": "code",
    "id": "yYDc0ZXALPnK",
    "outputId": "5403fab9-796a-493d-f9d3-2a410d004f64"
   },
   "outputs": [
    {
     "name": "stdout",
     "output_type": "stream",
     "text": [
      "4\n",
      "I wish I'd read the reviews before making this purchase. It's basically a cardsotck box that is sticky all over the OUTSIDE. Those pink-ish things that look like entrances \"into\" the trap? They're just pictures. There *is no* inside of the trap. All the flies will be stuck to the OUTSIDE. It's basically fly paper, just horribly, horribly HORRIBLY overpriced.<br /><br />Do yourself a favor and just get fly paper or fly strips. Same yuck factor, but much cheaper.\n"
     ]
    }
   ],
   "source": [
    "#Natural-Text-pre-processing \n",
    "#finding the which sentence contains html tags\n",
    "\n",
    "import re\n",
    "\n",
    "i=0;\n",
    "for sent in final['Text'].values:\n",
    "    if (len(re.findall('<.*?>', sent))):\n",
    "        print(i)\n",
    "        print(sent)\n",
    "        break;\n",
    "    i += 1;\n"
   ]
  },
  {
   "cell_type": "code",
   "execution_count": 16,
   "metadata": {
    "colab": {},
    "colab_type": "code",
    "id": "AxYh-wPiLPnS",
    "outputId": "31bddcb2-6c52-4b16-f9fb-c03d5b3bb7c8"
   },
   "outputs": [
    {
     "name": "stdout",
     "output_type": "stream",
     "text": [
      "[nltk_data] Downloading package stopwords to\n",
      "[nltk_data]     C:\\Users\\SatyaKrishna\\AppData\\Roaming\\nltk_data...\n",
      "[nltk_data]   Package stopwords is already up-to-date!\n"
     ]
    },
    {
     "data": {
      "text/plain": [
       "'delici'"
      ]
     },
     "execution_count": 16,
     "metadata": {},
     "output_type": "execute_result"
    }
   ],
   "source": [
    "import string\n",
    "from nltk.corpus import stopwords\n",
    "from nltk.stem import PorterStemmer\n",
    "from nltk.stem.wordnet import WordNetLemmatizer\n",
    "from nltk.stem.porter import PorterStemmer\n",
    "nltk.download('stopwords')\n",
    "\n",
    "def cleanhtml(sentence): #function to clean the word of any html-tags\n",
    "    cleanr = re.compile('<.*?>')\n",
    "    cleantext = re.sub(cleanr, ' ', sentence)\n",
    "    return cleantext\n",
    "\n",
    "def cleanpunc(sentence): #function to clean the word of any punctuation or special characters\n",
    "    cleaned = re.sub(r'[?|!|\\'|\"|#]',r'',sentence)\n",
    "    cleaned = re.sub(r'[.|,|)|(|\\|/]',r' ',cleaned)\n",
    "    return  cleaned\n",
    "\n",
    "stop = set(stopwords.words('english')) #set of stopwords\n",
    "\n",
    "sno = nltk.stem.SnowballStemmer('english') #initialising the snowball stemmer\n",
    "sno.stem('delicious')\n",
    "#stop\n"
   ]
  },
  {
   "cell_type": "code",
   "execution_count": 17,
   "metadata": {
    "colab": {},
    "colab_type": "code",
    "id": "JMSSWjZqLPne",
    "outputId": "eb1bae4e-6f37-45ee-84a3-ef3bebf4e30a"
   },
   "outputs": [
    {
     "name": "stderr",
     "output_type": "stream",
     "text": [
      "100%|███████████████████████████████████| 87773/87773 [02:37<00:00, 559.05it/s]\n"
     ]
    },
    {
     "name": "stdout",
     "output_type": "stream",
     "text": [
      "filtered sentences are stored successfully\n"
     ]
    }
   ],
   "source": [
    "import string\n",
    "from nltk.corpus import stopwords\n",
    "from nltk.stem import PorterStemmer\n",
    "from nltk.stem.wordnet import WordNetLemmatizer\n",
    "\n",
    "from tqdm import tqdm\n",
    "import os\n",
    "\n",
    "final_string=[] #creating a empty list for storing final preprocessed data\n",
    "cleanedtext_length=[]\n",
    "all_positive_words=[] # store words from +ve reviews here\n",
    "all_negative_words=[] # store words from -ve reviews here.\n",
    "for i, sent in enumerate(tqdm(final['Text'].values)):\n",
    "    filtered_sentence=[] #empty list for store after remove html and punc's and alfanumeric and words >2 and not in stop and converted to lowercase \n",
    "    sent=cleanhtml(sent) # remove HTMl tags\n",
    "    for w in sent.split():\n",
    "        # we have used cleanpunc(w).split(), one more split function here because consider w=\"abc.def\", cleanpunc(w) will return \"abc def\"\n",
    "        # if we dont use .split() function then we will be considring \"abc def\" as a single word, but if you use .split() function we will get \"abc\", \"def\"\n",
    "        for cleaned_words in cleanpunc(w).split():\n",
    "            if((cleaned_words.isalpha()) & (len(cleaned_words)>2)):    \n",
    "                if(cleaned_words.lower() not in stop):\n",
    "                    s=(sno.stem(cleaned_words.lower())).encode('utf8')\n",
    "                    filtered_sentence.append(s)# above steps are stored here \n",
    "                    if (final['Score'].values)[i] == 1: \n",
    "                        all_positive_words.append(s) #list of all words used to describe positive reviews stored with above \n",
    "                    if(final['Score'].values)[i] == 0:\n",
    "                        all_negative_words.append(s) #list of all words used to describe negative reviews reviews stored with above \n",
    "    str1 = b\" \".join(filtered_sentence) #final string of cleaned words stored in str1   \n",
    "    final_string.append(str1) #here str1 stored in final_string\n",
    "    cleanedtext_length.append(len(str1))\n",
    "print(\"filtered sentences are stored successfully\")\n"
   ]
  },
  {
   "cell_type": "code",
   "execution_count": 18,
   "metadata": {
    "colab": {},
    "colab_type": "code",
    "id": "BEtpMkhULPnt"
   },
   "outputs": [
    {
     "name": "stdout",
     "output_type": "stream",
     "text": [
      "cleaned data is added successfully in cleaned text feature\n"
     ]
    },
    {
     "data": {
      "text/html": [
       "<div>\n",
       "<style scoped>\n",
       "    .dataframe tbody tr th:only-of-type {\n",
       "        vertical-align: middle;\n",
       "    }\n",
       "\n",
       "    .dataframe tbody tr th {\n",
       "        vertical-align: top;\n",
       "    }\n",
       "\n",
       "    .dataframe thead th {\n",
       "        text-align: right;\n",
       "    }\n",
       "</style>\n",
       "<table border=\"1\" class=\"dataframe\">\n",
       "  <thead>\n",
       "    <tr style=\"text-align: right;\">\n",
       "      <th></th>\n",
       "      <th>Id</th>\n",
       "      <th>ProductId</th>\n",
       "      <th>UserId</th>\n",
       "      <th>ProfileName</th>\n",
       "      <th>HelpfulnessNumerator</th>\n",
       "      <th>HelpfulnessDenominator</th>\n",
       "      <th>Score</th>\n",
       "      <th>Time</th>\n",
       "      <th>Summary</th>\n",
       "      <th>Text</th>\n",
       "      <th>CleanedText</th>\n",
       "      <th>cleanedText_length</th>\n",
       "    </tr>\n",
       "  </thead>\n",
       "  <tbody>\n",
       "    <tr>\n",
       "      <th>22620</th>\n",
       "      <td>24750</td>\n",
       "      <td>2734888454</td>\n",
       "      <td>A13ISQV0U9GZIC</td>\n",
       "      <td>Sandikaye</td>\n",
       "      <td>1</td>\n",
       "      <td>1</td>\n",
       "      <td>0</td>\n",
       "      <td>1192060800</td>\n",
       "      <td>made in china</td>\n",
       "      <td>My dogs loves this chicken but its a product f...</td>\n",
       "      <td>dog love chicken product china wont buy anymor...</td>\n",
       "      <td>149</td>\n",
       "    </tr>\n",
       "    <tr>\n",
       "      <th>22621</th>\n",
       "      <td>24751</td>\n",
       "      <td>2734888454</td>\n",
       "      <td>A1C298ITT645B6</td>\n",
       "      <td>Hugh G. Pritchard</td>\n",
       "      <td>0</td>\n",
       "      <td>0</td>\n",
       "      <td>1</td>\n",
       "      <td>1195948800</td>\n",
       "      <td>Dog Lover Delites</td>\n",
       "      <td>Our dogs just love them.  I saw them in a pet ...</td>\n",
       "      <td>dog love saw pet store tag attach regard made ...</td>\n",
       "      <td>64</td>\n",
       "    </tr>\n",
       "    <tr>\n",
       "      <th>70677</th>\n",
       "      <td>76870</td>\n",
       "      <td>B00002N8SM</td>\n",
       "      <td>A19Q006CSFT011</td>\n",
       "      <td>Arlielle</td>\n",
       "      <td>0</td>\n",
       "      <td>0</td>\n",
       "      <td>0</td>\n",
       "      <td>1288396800</td>\n",
       "      <td>only one fruitfly stuck</td>\n",
       "      <td>I had an infestation of fruitflies, they were ...</td>\n",
       "      <td>infest fruitfli liter everywher fli around kit...</td>\n",
       "      <td>357</td>\n",
       "    </tr>\n",
       "  </tbody>\n",
       "</table>\n",
       "</div>"
      ],
      "text/plain": [
       "          Id   ProductId          UserId        ProfileName  \\\n",
       "22620  24750  2734888454  A13ISQV0U9GZIC          Sandikaye   \n",
       "22621  24751  2734888454  A1C298ITT645B6  Hugh G. Pritchard   \n",
       "70677  76870  B00002N8SM  A19Q006CSFT011           Arlielle   \n",
       "\n",
       "       HelpfulnessNumerator  HelpfulnessDenominator  Score        Time  \\\n",
       "22620                     1                       1      0  1192060800   \n",
       "22621                     0                       0      1  1195948800   \n",
       "70677                     0                       0      0  1288396800   \n",
       "\n",
       "                       Summary  \\\n",
       "22620            made in china   \n",
       "22621        Dog Lover Delites   \n",
       "70677  only one fruitfly stuck   \n",
       "\n",
       "                                                    Text  \\\n",
       "22620  My dogs loves this chicken but its a product f...   \n",
       "22621  Our dogs just love them.  I saw them in a pet ...   \n",
       "70677  I had an infestation of fruitflies, they were ...   \n",
       "\n",
       "                                             CleanedText  cleanedText_length  \n",
       "22620  dog love chicken product china wont buy anymor...                 149  \n",
       "22621  dog love saw pet store tag attach regard made ...                  64  \n",
       "70677  infest fruitfli liter everywher fli around kit...                 357  "
      ]
     },
     "execution_count": 18,
     "metadata": {},
     "output_type": "execute_result"
    }
   ],
   "source": [
    "final['CleanedText']=final_string #adding a column of CleanedText which displays the data after pre-processing of the review \n",
    "final['CleanedText']=final['CleanedText'].str.decode(\"utf-8\")\n",
    "final['cleanedText_length']=cleanedtext_length#addingcolumn  a length of cleaned text\n",
    "print(\"cleaned data is added successfully in cleaned text feature\")\n",
    "final.shape\n",
    "final.head(3)\n",
    "#final.CleanedText.values[:50]"
   ]
  },
  {
   "cell_type": "code",
   "execution_count": 19,
   "metadata": {
    "colab": {},
    "colab_type": "code",
    "id": "GavAnzNjLPnx",
    "outputId": "517fca9a-b1b6-4c6c-ab33-4c5ac4a5bd62"
   },
   "outputs": [
    {
     "name": "stdout",
     "output_type": "stream",
     "text": [
      "Most Common Positive Words in review :  [(b'like', 35242), (b'tast', 30840), (b'good', 27671), (b'flavor', 26981), (b'love', 26733), (b'great', 25050), (b'one', 23767), (b'use', 22755), (b'tri', 21157), (b'product', 20972), (b'coffe', 20647), (b'tea', 19247), (b'food', 18115), (b'get', 17728), (b'make', 17278), (b'dog', 14274), (b'would', 13929), (b'eat', 13453), (b'time', 12997), (b'realli', 12951)]\n",
      "----------------------------------------------------------------------------------------------------\n",
      "Most Common Negative Words in review:  [(b'tast', 8828), (b'like', 8406), (b'product', 6907), (b'one', 5184), (b'flavor', 4936), (b'would', 4561), (b'tri', 4539), (b'coffe', 3871), (b'good', 3846), (b'use', 3690), (b'food', 3625), (b'get', 3456), (b'buy', 3385), (b'dog', 3214), (b'dont', 3017), (b'order', 3009), (b'tea', 2865), (b'even', 2835), (b'eat', 2693), (b'box', 2677)]\n"
     ]
    }
   ],
   "source": [
    "#all the filtered sentences and positive and negative reviews with bytes foramt for faster processing \n",
    "# are stored in final_string\n",
    "#Now most common positive words and negitive words\n",
    "\n",
    "freq_dist_positive=nltk.FreqDist(all_positive_words)\n",
    "freq_dist_negative=nltk.FreqDist(all_negative_words)\n",
    "print(\"Most Common Positive Words in review : \",freq_dist_positive.most_common(20))\n",
    "print('-' *100)\n",
    "print(\"Most Common Negative Words in review: \",freq_dist_negative.most_common(20))"
   ]
  },
  {
   "cell_type": "code",
   "execution_count": null,
   "metadata": {
    "colab": {},
    "colab_type": "code",
    "id": "Kl8nOoL-LPn3",
    "outputId": "16742d57-2529-4fc0-9d28-e9332dbbca97"
   },
   "outputs": [],
   "source": []
  },
  {
   "cell_type": "code",
   "execution_count": null,
   "metadata": {
    "colab": {},
    "colab_type": "code",
    "id": "EGB6X2uxLPn7",
    "outputId": "dbd754e5-eb73-4b3a-f3c3-7b1b40952851"
   },
   "outputs": [],
   "source": []
  },
  {
   "cell_type": "code",
   "execution_count": null,
   "metadata": {
    "colab": {},
    "colab_type": "code",
    "id": "CCurSJJ2LPn_"
   },
   "outputs": [],
   "source": []
  },
  {
   "cell_type": "code",
   "execution_count": null,
   "metadata": {
    "colab": {},
    "colab_type": "code",
    "id": "mFHQEvfnLPoF",
    "outputId": "5cd6bcc3-54fe-4a8e-a39d-d6dabf3f37f9"
   },
   "outputs": [],
   "source": []
  },
  {
   "cell_type": "code",
   "execution_count": null,
   "metadata": {
    "colab": {},
    "colab_type": "code",
    "id": "Tqx8QUeRLPoH",
    "outputId": "0182081c-6282-4113-b186-5b5bac596388"
   },
   "outputs": [],
   "source": []
  },
  {
   "cell_type": "markdown",
   "metadata": {
    "colab_type": "text",
    "id": "9IuKp2HULPoL"
   },
   "source": [
    "<h2><font color='red'>[3.2] Preprocessing Review Summary</font></h2>"
   ]
  },
  {
   "cell_type": "code",
   "execution_count": 20,
   "metadata": {
    "colab": {},
    "colab_type": "code",
    "id": "Qk7gYOmKLPoM"
   },
   "outputs": [
    {
     "name": "stdout",
     "output_type": "stream",
     "text": [
      "There is no html tags\n",
      "--------------------------------------------------\n"
     ]
    },
    {
     "data": {
      "text/plain": [
       "22620                              made in china\n",
       "22621                          Dog Lover Delites\n",
       "70677                    only one fruitfly stuck\n",
       "70676    Doesn't work!! Don't waste your money!!\n",
       "70675                              A big rip off\n",
       "70673     THIS ITEM IS EXCELLENT TO KILL INSECTS\n",
       "70672                                Didn't work\n",
       "70671                        Gross but effective\n",
       "70670                        Didn't work for me.\n",
       "70669                             Waste of money\n",
       "Name: Summary, dtype: object"
      ]
     },
     "execution_count": 20,
     "metadata": {},
     "output_type": "execute_result"
    }
   ],
   "source": [
    "## Similartly you can do preprocessing for review summary also.\n",
    "## Similartly you can do preprocessing for review summary also.\n",
    "## Similartly you can do preprocessing for review summary also.\n",
    "#finding html tags in summary text \n",
    "\n",
    "j=0;\n",
    "for summary in final['Summary'].values:\n",
    "    if (len(re.findall('<.*?>', summary))):\n",
    "        print(j)\n",
    "        print(summary)\n",
    "    else:\n",
    "        print(\"There is no html tags\")\n",
    "        print('-'*50)\n",
    "        break;\n",
    "    j += 1;\n",
    "final[\"Summary\"].head(10)"
   ]
  },
  {
   "cell_type": "code",
   "execution_count": 21,
   "metadata": {},
   "outputs": [
    {
     "data": {
      "text/plain": [
       "'wow'"
      ]
     },
     "execution_count": 21,
     "metadata": {},
     "output_type": "execute_result"
    }
   ],
   "source": [
    "#removing if any html tags and punctuations in summary feature\n",
    "#observed there is no html tags in summary attribute \n",
    "\n",
    "#def cleanhtml(s_sentence): #function to clean the word of any html-tags\n",
    "#    s_cleanr = re.compile('<.*?>')\n",
    "#    s_cleantext = re.sub(s_cleanr, ' ', s_sentence)\n",
    "#    return s_cleantext\n",
    "\n",
    "def cleanpunc(s_sentence): #function to clean the word of any punctuation or special characters\n",
    "    s_cleaned = re.sub(r'[?|!|\\'|\"|#]',r'',s_sentence)\n",
    "    s_cleaned = re.sub(r'[.|,|)|(|\\|/]',r' ',s_cleaned)\n",
    "    return  s_cleaned\n",
    "\n",
    "s_stop = set(stopwords.words('english')) #set of stopwords\n",
    "\n",
    "s_sno = nltk.stem.SnowballStemmer('english') #initialising the snowball stemmer\n",
    "s_sno.stem('wow')"
   ]
  },
  {
   "cell_type": "code",
   "execution_count": 22,
   "metadata": {},
   "outputs": [
    {
     "name": "stderr",
     "output_type": "stream",
     "text": [
      "100%|██████████████████████████████████| 87773/87773 [00:13<00:00, 6734.33it/s]\n"
     ]
    },
    {
     "name": "stdout",
     "output_type": "stream",
     "text": [
      "filtered summary are stored successfully in summary_final_string\n"
     ]
    },
    {
     "data": {
      "text/plain": [
       "87773"
      ]
     },
     "execution_count": 22,
     "metadata": {},
     "output_type": "execute_result"
    }
   ],
   "source": [
    "summary_final_string=[] #creating a empty list for storing final preprocessed data\n",
    "summary_length=[]\n",
    "summary_all_positive_words=[] # store words from +ve summary here\n",
    "summary_all_negative_words=[] # store words from -ve summary here.\n",
    "for j, summary_sent in enumerate(tqdm(final['Summary'].values)):\n",
    "    summary_filtered_sentence=[] #empty list for store after remove  punc's and alphanumeric and words >2 and not in stop and converted to lowercase \n",
    "    #summary_sent=cleanhtml(summary_sent) # remove HTMl tags\n",
    "    for s_w in summary_sent.split():\n",
    "        for s_cleaned_words in cleanpunc(s_w).split():\n",
    "            if((s_cleaned_words.isalpha()) & (len(s_cleaned_words)>2)):    \n",
    "                if(s_cleaned_words.lower() not in s_stop):\n",
    "                    s_s=(s_sno.stem(s_cleaned_words.lower())).encode('utf8')\n",
    "                    summary_filtered_sentence.append(s_s)# above steps are stored here \n",
    "                    if (final['Score'].values)[j] == 1: \n",
    "                        summary_all_positive_words.append(s_s) #list of all words used to describe positive summary stored with above \n",
    "                    if(final['Score'].values)[j] == 0:\n",
    "                        summary_all_negative_words.append(s_s) #list of all words used to describe negative summary reviews stored with above \n",
    "    s_str1 = b''.join(summary_filtered_sentence) #final string of cleaned words stored in s_str1   \n",
    "    summary_final_string.append(s_str1) #here s_str1 stored in summary_final_string\n",
    "    summary_length.append(len(s_str1))\n",
    "print(\"filtered summary are stored successfully in summary_final_string\")\n",
    "len(summary_final_string)"
   ]
  },
  {
   "cell_type": "code",
   "execution_count": 23,
   "metadata": {},
   "outputs": [
    {
     "name": "stdout",
     "output_type": "stream",
     "text": [
      "Most Common Positive Words in summary :  [(b'great', 11454), (b'good', 7357), (b'love', 5977), (b'best', 5254), (b'tast', 3462), (b'coffe', 3401), (b'tea', 3154), (b'delici', 3094), (b'dog', 3090), (b'product', 2722)]\n",
      "----------------------------------------------------------------------------------------------------\n",
      "Most Common Negative Words in summary :  [(b'tast', 1075), (b'like', 667), (b'good', 659), (b'disappoint', 453), (b'flavor', 431), (b'product', 429), (b'bad', 420), (b'dog', 413), (b'coffe', 399), (b'dont', 355)]\n"
     ]
    }
   ],
   "source": [
    "s_freq_dist_positive=nltk.FreqDist(summary_all_positive_words)\n",
    "s_freq_dist_negative=nltk.FreqDist(summary_all_negative_words)\n",
    "print(\"Most Common Positive Words in summary : \",s_freq_dist_positive.most_common(10))\n",
    "print('-' *100)\n",
    "print(\"Most Common Negative Words in summary : \",s_freq_dist_negative.most_common(10))"
   ]
  },
  {
   "cell_type": "code",
   "execution_count": 24,
   "metadata": {},
   "outputs": [
    {
     "data": {
      "text/html": [
       "<div>\n",
       "<style scoped>\n",
       "    .dataframe tbody tr th:only-of-type {\n",
       "        vertical-align: middle;\n",
       "    }\n",
       "\n",
       "    .dataframe tbody tr th {\n",
       "        vertical-align: top;\n",
       "    }\n",
       "\n",
       "    .dataframe thead th {\n",
       "        text-align: right;\n",
       "    }\n",
       "</style>\n",
       "<table border=\"1\" class=\"dataframe\">\n",
       "  <thead>\n",
       "    <tr style=\"text-align: right;\">\n",
       "      <th></th>\n",
       "      <th>Id</th>\n",
       "      <th>ProductId</th>\n",
       "      <th>UserId</th>\n",
       "      <th>ProfileName</th>\n",
       "      <th>HelpfulnessNumerator</th>\n",
       "      <th>HelpfulnessDenominator</th>\n",
       "      <th>Score</th>\n",
       "      <th>Time</th>\n",
       "      <th>Summary</th>\n",
       "      <th>Text</th>\n",
       "      <th>CleanedText</th>\n",
       "      <th>cleanedText_length</th>\n",
       "      <th>Cleanedsummary</th>\n",
       "      <th>Cleanedsummary_len</th>\n",
       "    </tr>\n",
       "  </thead>\n",
       "  <tbody>\n",
       "    <tr>\n",
       "      <th>22620</th>\n",
       "      <td>24750</td>\n",
       "      <td>2734888454</td>\n",
       "      <td>A13ISQV0U9GZIC</td>\n",
       "      <td>Sandikaye</td>\n",
       "      <td>1</td>\n",
       "      <td>1</td>\n",
       "      <td>0</td>\n",
       "      <td>1192060800</td>\n",
       "      <td>made in china</td>\n",
       "      <td>My dogs loves this chicken but its a product f...</td>\n",
       "      <td>dog love chicken product china wont buy anymor...</td>\n",
       "      <td>149</td>\n",
       "      <td>b'madechina'</td>\n",
       "      <td>9</td>\n",
       "    </tr>\n",
       "  </tbody>\n",
       "</table>\n",
       "</div>"
      ],
      "text/plain": [
       "          Id   ProductId          UserId ProfileName  HelpfulnessNumerator  \\\n",
       "22620  24750  2734888454  A13ISQV0U9GZIC   Sandikaye                     1   \n",
       "\n",
       "       HelpfulnessDenominator  Score        Time        Summary  \\\n",
       "22620                       1      0  1192060800  made in china   \n",
       "\n",
       "                                                    Text  \\\n",
       "22620  My dogs loves this chicken but its a product f...   \n",
       "\n",
       "                                             CleanedText  cleanedText_length  \\\n",
       "22620  dog love chicken product china wont buy anymor...                 149   \n",
       "\n",
       "      Cleanedsummary  Cleanedsummary_len  \n",
       "22620   b'madechina'                   9  "
      ]
     },
     "execution_count": 24,
     "metadata": {},
     "output_type": "execute_result"
    }
   ],
   "source": [
    "final['Cleanedsummary']=summary_final_string\n",
    "final['Cleanedsummary_len']=summary_length\n",
    "final[0:1]"
   ]
  },
  {
   "cell_type": "code",
   "execution_count": 25,
   "metadata": {},
   "outputs": [
    {
     "name": "stdout",
     "output_type": "stream",
     "text": [
      "1    73592\n",
      "0    14181\n",
      "Name: Score, dtype: int64\n",
      "(87773,)\n"
     ]
    }
   ],
   "source": [
    "print(final['Score'].value_counts())\n",
    "print(final['Score'].shape)"
   ]
  },
  {
   "cell_type": "markdown",
   "metadata": {},
   "source": [
    "<h3>Feature_Engineering</h3>"
   ]
  },
  {
   "cell_type": "code",
   "execution_count": 26,
   "metadata": {},
   "outputs": [
    {
     "data": {
      "text/html": [
       "<div>\n",
       "<style scoped>\n",
       "    .dataframe tbody tr th:only-of-type {\n",
       "        vertical-align: middle;\n",
       "    }\n",
       "\n",
       "    .dataframe tbody tr th {\n",
       "        vertical-align: top;\n",
       "    }\n",
       "\n",
       "    .dataframe thead th {\n",
       "        text-align: right;\n",
       "    }\n",
       "</style>\n",
       "<table border=\"1\" class=\"dataframe\">\n",
       "  <thead>\n",
       "    <tr style=\"text-align: right;\">\n",
       "      <th></th>\n",
       "      <th>CleanedText</th>\n",
       "      <th>cleanedText_length</th>\n",
       "      <th>Cleanedsummary</th>\n",
       "      <th>Cleanedsummary_len</th>\n",
       "      <th>cleaned_&amp;_summary</th>\n",
       "    </tr>\n",
       "  </thead>\n",
       "  <tbody>\n",
       "    <tr>\n",
       "      <th>22620</th>\n",
       "      <td>dog love chicken product china wont buy anymor...</td>\n",
       "      <td>149</td>\n",
       "      <td>b'madechina'</td>\n",
       "      <td>9</td>\n",
       "      <td>dog love chicken product china wont buy anymor...</td>\n",
       "    </tr>\n",
       "    <tr>\n",
       "      <th>22621</th>\n",
       "      <td>dog love saw pet store tag attach regard made ...</td>\n",
       "      <td>64</td>\n",
       "      <td>b'dogloverdelit'</td>\n",
       "      <td>13</td>\n",
       "      <td>dog love saw pet store tag attach regard made ...</td>\n",
       "    </tr>\n",
       "    <tr>\n",
       "      <th>70677</th>\n",
       "      <td>infest fruitfli liter everywher fli around kit...</td>\n",
       "      <td>357</td>\n",
       "      <td>b'onefruitflistuck'</td>\n",
       "      <td>16</td>\n",
       "      <td>infest fruitfli liter everywher fli around kit...</td>\n",
       "    </tr>\n",
       "  </tbody>\n",
       "</table>\n",
       "</div>"
      ],
      "text/plain": [
       "                                             CleanedText  cleanedText_length  \\\n",
       "22620  dog love chicken product china wont buy anymor...                 149   \n",
       "22621  dog love saw pet store tag attach regard made ...                  64   \n",
       "70677  infest fruitfli liter everywher fli around kit...                 357   \n",
       "\n",
       "            Cleanedsummary  Cleanedsummary_len  \\\n",
       "22620         b'madechina'                   9   \n",
       "22621     b'dogloverdelit'                  13   \n",
       "70677  b'onefruitflistuck'                  16   \n",
       "\n",
       "                                       cleaned_&_summary  \n",
       "22620  dog love chicken product china wont buy anymor...  \n",
       "22621  dog love saw pet store tag attach regard made ...  \n",
       "70677  infest fruitfli liter everywher fli around kit...  "
      ]
     },
     "execution_count": 26,
     "metadata": {},
     "output_type": "execute_result"
    }
   ],
   "source": [
    "#here combining both cleaned summary text and cleaned review text and cleaned text length for getting better results \n",
    "final['cleaned_&_summary'] = final['CleanedText'] + final['Cleanedsummary'].map(str)\n",
    "fea_eng_x=final['cleaned_&_summary'] + final['cleanedText_length'].map(str)\n",
    "final.iloc[:,10:15].head(3)"
   ]
  },
  {
   "cell_type": "code",
   "execution_count": 27,
   "metadata": {},
   "outputs": [
    {
     "name": "stdout",
     "output_type": "stream",
     "text": [
      "Data splitted sucessfully in to train ,test,cv\n"
     ]
    }
   ],
   "source": [
    "#https://towardsdatascience.com/building-a-logistic-regression-in-python-step-by-step-becd4d56c9c8\n",
    "\n",
    "from imblearn.over_sampling import SMOTE\n",
    "from sklearn import model_selection\n",
    "from sklearn.model_selection import train_test_split\n",
    "\n",
    "X=fea_eng_x\n",
    "Y=final['Score']\n",
    "\n",
    "#here we splitting the whole data to train test and cv\n",
    "\n",
    "#splitted the data in to train and test\n",
    "x_train,x_test_data,y_train,y_test_data = train_test_split(X, Y, test_size=0.3, random_state=0)\n",
    "#splitted the above train data into 2nd train and cross validation \n",
    "x_train_data,x_cv_data,y_train_data,y_cv_data = train_test_split(x_train, y_train, test_size=0.3, random_state=0)\n",
    "\n",
    "print(\"Data splitted sucessfully in to train ,test,cv\")"
   ]
  },
  {
   "cell_type": "code",
   "execution_count": null,
   "metadata": {},
   "outputs": [],
   "source": []
  },
  {
   "cell_type": "code",
   "execution_count": null,
   "metadata": {},
   "outputs": [],
   "source": []
  },
  {
   "cell_type": "code",
   "execution_count": null,
   "metadata": {},
   "outputs": [],
   "source": []
  },
  {
   "cell_type": "markdown",
   "metadata": {
    "colab_type": "text",
    "id": "B93jqKuhLPoQ"
   },
   "source": [
    "# [4] Featurization"
   ]
  },
  {
   "cell_type": "markdown",
   "metadata": {
    "colab_type": "text",
    "id": "Mr4j2QhgLPoQ"
   },
   "source": [
    "## [4.1] BAG OF WORDS"
   ]
  },
  {
   "cell_type": "code",
   "execution_count": 422,
   "metadata": {
    "colab": {},
    "colab_type": "code",
    "id": "dZVHt3mtLPoR",
    "outputId": "ea1629cd-7c92-400e-9acd-f7caeef0f389"
   },
   "outputs": [
    {
     "name": "stdout",
     "output_type": "stream",
     "text": [
      "the type of count vectorizer  <class 'scipy.sparse.csr.csr_matrix'>\n",
      "the shape of out text BOW vectorizer  (43008, 57624)\n",
      "the number of unique words  57624\n",
      "--------------------------------------------------\n",
      "--------------------------------------------------\n",
      "(43008, 57624) (43008,)\n",
      "(26332, 57624) (26332,)\n",
      "(18433, 57624) (18433,)\n",
      "Bow splitted data\n",
      " final_bow_train_data,y_train_data\n",
      " final_bow_test_data,y_test_data\n",
      " final_bow_cv_data,y_cv_data\n",
      "\n"
     ]
    }
   ],
   "source": [
    "#APPLYING_BOW ON TRAIN DATA \n",
    "\n",
    "from sklearn.feature_extraction.text import CountVectorizer\n",
    "from sklearn.model_selection import train_test_split\n",
    "from sklearn.preprocessing import StandardScaler\n",
    "count_vect = CountVectorizer() #in scikit-learn\n",
    "final_counts_bow_train = count_vect.fit_transform(x_train_data)\n",
    "final_bow_train_data=final_counts_bow_train\n",
    "#transform  on testdata\n",
    "final_bow_test_data = count_vect.transform(x_test_data)\n",
    "#transform on cv data \n",
    "final_bow_cv_data = count_vect.transform(x_cv_data)\n",
    "\n",
    "print(\"the type of count vectorizer \",type(final_bow_train_data))\n",
    "print(\"the shape of out text BOW vectorizer \",final_bow_train_data.get_shape())\n",
    "print(\"the number of unique words \", final_bow_train_data.get_shape()[1])\n",
    "#dense_bow=final_bow_train_data.todense()\n",
    "print('-' * 50 )\n",
    "print('-' * 50 )\n",
    "#print(\"the type of count vectorizer \",type(dense_bow))\n",
    "\n",
    "print(final_bow_train_data.shape,y_train_data.shape)\n",
    "print(final_bow_test_data.shape,y_test_data.shape)\n",
    "print(final_bow_cv_data.shape,y_cv_data.shape)\n",
    "print(\"Bow splitted data\\n\", \"final_bow_train_data,y_train_data\\n\",\"final_bow_test_data,y_test_data\\n\",\"final_bow_cv_data,y_cv_data\\n\")\n"
   ]
  },
  {
   "cell_type": "code",
   "execution_count": 29,
   "metadata": {},
   "outputs": [
    {
     "data": {
      "text/plain": [
       "<43008x57624 sparse matrix of type '<class 'numpy.int64'>'\n",
       "\twith 1457373 stored elements in Compressed Sparse Row format>"
      ]
     },
     "execution_count": 29,
     "metadata": {},
     "output_type": "execute_result"
    }
   ],
   "source": [
    "final_bow_train_data "
   ]
  },
  {
   "cell_type": "markdown",
   "metadata": {
    "colab_type": "text",
    "id": "-cEEpDx0LPoZ"
   },
   "source": [
    "## [4.3] TF-IDF"
   ]
  },
  {
   "cell_type": "code",
   "execution_count": 30,
   "metadata": {
    "colab": {},
    "colab_type": "code",
    "id": "TgP61HqBLPoa",
    "outputId": "15f1c123-d93b-414d-914b-d4e3f32a6ac1"
   },
   "outputs": [
    {
     "name": "stdout",
     "output_type": "stream",
     "text": [
      "the type of count vectorizer  <class 'scipy.sparse.csr.csr_matrix'>\n",
      "the shape of out text TFIDF vectorizer  (43008, 822825)\n",
      "the number of unique words including both unigrams and bigrams  822825\n",
      "(43008, 822825) (43008,)\n",
      "(26332, 822825) (26332,)\n",
      "(18433, 822825) (18433,)\n",
      "TFIDF splitted data\n",
      " final_tfidf_train_data,y_train_data\n",
      " final_tfidf_test_data,y_test_data\n",
      " final_tfidf_cv_data,y_cv_data\n",
      "\n"
     ]
    }
   ],
   "source": [
    "#TFIDF VECTORIZER\n",
    "from sklearn.feature_extraction.text import TfidfTransformer\n",
    "from sklearn.feature_extraction.text import TfidfVectorizer\n",
    "\n",
    "tf_idf_vect = TfidfVectorizer(ngram_range=(1,2))\n",
    "final_tfidf_train_data = tf_idf_vect.fit_transform(x_train_data)\n",
    "final_tfidf_test_data = tf_idf_vect.transform(x_test_data)\n",
    "final_tfidf_cv_data = tf_idf_vect.transform(x_cv_data)\n",
    "print(\"the type of count vectorizer \",type(final_tfidf_train_data))\n",
    "print(\"the shape of out text TFIDF vectorizer \",final_tfidf_train_data.get_shape())\n",
    "print(\"the number of unique words including both unigrams and bigrams \", final_tfidf_train_data.get_shape()[1])\n",
    "#tfidf_dense=final_tfidf_train_data.todense()\n",
    "#print('-' * 50 )\n",
    "#print(\"here below  we converting scipy to dense \")\n",
    "#print('-' * 50 )\n",
    "#print(\"the type of count vectorizer \",type(tfidf_dense))\n",
    "print(final_tfidf_train_data.shape,y_train_data.shape)\n",
    "print(final_tfidf_test_data.shape,y_test_data.shape)\n",
    "print(final_tfidf_cv_data.shape,y_cv_data.shape)\n",
    "print(\"TFIDF splitted data\\n\", \"final_tfidf_train_data,y_train_data\\n\",\"final_tfidf_test_data,y_test_data\\n\",\"final_tfidf_cv_data,y_cv_data\\n\")"
   ]
  },
  {
   "cell_type": "markdown",
   "metadata": {
    "colab_type": "text",
    "id": "m3YEHTLPLPod"
   },
   "source": [
    "## [4.4] Word2Vec"
   ]
  },
  {
   "cell_type": "code",
   "execution_count": 31,
   "metadata": {
    "colab": {},
    "colab_type": "code",
    "id": "zwPZCf8cLPoe"
   },
   "outputs": [
    {
     "name": "stdout",
     "output_type": "stream",
     "text": [
      "Data splitted sucessfully in to train ,test,cv\n",
      "cleantext train data\n",
      "cleantext cv data\n",
      "cleantext test data\n"
     ]
    }
   ],
   "source": [
    "#spplitting the data \n",
    "X=fea_eng_x\n",
    "Y=final['Score']\n",
    "\n",
    "#here we splitting the whole data to train test and cv\n",
    "\n",
    "#splitted the data in to train and test\n",
    "x_train,x_test_data,y_train,y_test_data = train_test_split(X, Y, test_size=0.3, random_state=0)\n",
    "#splitted the above train data into 2nd train and cross validation \n",
    "x_train_data,x_cv_data,y_train_data,y_cv_data = train_test_split(x_train, y_train, test_size=0.3, random_state=0)\n",
    "\n",
    "print(\"Data splitted sucessfully in to train ,test,cv\")\n",
    "\n",
    "# Train your own Word2Vec model using your own text corpus\n",
    "from gensim.models import Word2Vec\n",
    "from gensim.models import KeyedVectors\n",
    "\n",
    "#train data\n",
    "cleantext_train= x_train_data # building own text corpus from w2v train data  \n",
    "i=0\n",
    "list_of_sentance_train=[]\n",
    "for sentance_train in cleantext_train:\n",
    "    list_of_sentance_train.append(sentance_train.split())\n",
    "print(\"cleantext train data\")\n",
    "    \n",
    "#cv data\n",
    "cleantext_cv= x_cv_data # building own text corpus from w2v cv data  \n",
    "j=0\n",
    "list_of_sentance_cv=[]\n",
    "for sentance_cv in cleantext_cv:\n",
    "    list_of_sentance_cv.append(sentance_cv.split())\n",
    "print(\"cleantext cv data\")\n",
    "\n",
    "\n",
    "#test data\n",
    "cleantext_test= x_test_data # building own text corpus from w2v test data  \n",
    "k=0\n",
    "list_of_sentance_test=[]\n",
    "for sentance_test in cleantext_test:\n",
    "    list_of_sentance_test.append(sentance_test.split())\n",
    "print(\"cleantext test data\")"
   ]
  },
  {
   "cell_type": "code",
   "execution_count": 32,
   "metadata": {},
   "outputs": [
    {
     "name": "stderr",
     "output_type": "stream",
     "text": [
      "WARNING:gensim.models.base_any2vec:consider setting layer size to a multiple of 4 for greater performance\n"
     ]
    }
   ],
   "source": [
    "#WORD2VEC USING OWN CORPUS FROM ABOVE DATA \n",
    "# min_count = 5 considers only words that occured atleast 5 times\n",
    "w2v_train_model=Word2Vec(list_of_sentance_train,min_count=5,size=50, workers=4)\n",
    "#w2v_cv_model=Word2Vec(list_of_sentance_cv,min_count=5,size=50, workers=4)\n",
    "#w2v_test_model=Word2Vec(list_of_sentance_test,min_count=5,size=50, workers=4)\n",
    "\n",
    "#w2v_train_model.wv.most_similar('like')  "
   ]
  },
  {
   "cell_type": "code",
   "execution_count": 33,
   "metadata": {
    "colab": {},
    "colab_type": "code",
    "id": "8ddGZNUfLPog",
    "outputId": "390d4ccb-cda2-4391-83e9-0e502b578171",
    "scrolled": false
   },
   "outputs": [
    {
     "name": "stdout",
     "output_type": "stream",
     "text": [
      "number of words that occured minimum 5 times  8475\n",
      "sample words from corpus   ['doubl', 'dye', 'spill', 'anyth', 'want', 'wear', 'compani', 'crazi', 'cours', 'mix', 'batch', 'add', 'least', 'ounc', 'lemon', 'juic', 'lime', 'take', 'bring', 'refresh', 'qualiti', 'counteract', 'sicken', 'sweet', 'american', 'appar', 'crave', 'keep', 'jug', 'refriger', 'time', 'rare', 'day', 'pass', 'dont', 'glass', 'store', 'around', 'stop', 'carri', 'realli', 'like', 'except', 'safeway', 'hit', 'cannist', 'delight', 'find', 'sign', 'price']\n"
     ]
    }
   ],
   "source": [
    "#creating words only on train data \n",
    "w2v_words_train = list(w2v_train_model.wv.vocab)\n",
    "print(\"number of words that occured minimum 5 times \",len(w2v_words_train))\n",
    "print(\"sample words from corpus  \", w2v_words_train[0:50])"
   ]
  },
  {
   "cell_type": "code",
   "execution_count": null,
   "metadata": {
    "colab": {},
    "colab_type": "code",
    "id": "bRWXmmnWLPoo",
    "outputId": "1cc345e7-d991-49b8-f1b7-a0d81f0b97e6"
   },
   "outputs": [],
   "source": []
  },
  {
   "cell_type": "markdown",
   "metadata": {
    "colab_type": "text",
    "id": "TtWqibqfLPos"
   },
   "source": [
    "## [4.4.1] Converting text into vectors using Avg W2V, TFIDF-W2V"
   ]
  },
  {
   "cell_type": "markdown",
   "metadata": {
    "colab_type": "text",
    "id": "JriP5nZCLPot"
   },
   "source": [
    "#### [4.4.1.1] Avg W2v"
   ]
  },
  {
   "cell_type": "code",
   "execution_count": 34,
   "metadata": {
    "colab": {},
    "colab_type": "code",
    "id": "UnXI9NHTLPot",
    "outputId": "ecbe8256-9718-4bad-de33-e5ce1ee69038"
   },
   "outputs": [
    {
     "name": "stderr",
     "output_type": "stream",
     "text": [
      "100%|███████████████████████████████████| 43008/43008 [01:20<00:00, 531.87it/s]\n"
     ]
    },
    {
     "name": "stdout",
     "output_type": "stream",
     "text": [
      "43008\n",
      "50\n",
      "<class 'list'>\n"
     ]
    }
   ],
   "source": [
    "# average Word2Vec train data \n",
    "# compute average word2vec_train for each review.\n",
    "sent_vectors_train = []; # the avg-w2v_train for each sentence/review is stored in this list\n",
    "final_avgw2v_train_data=sent_vectors_train\n",
    "for sent_train in tqdm(list_of_sentance_train): # for each train_review/sentence\n",
    "    sent_vec_train = np.zeros(50) # as word vectors are of zero length 50, you might need to change this to 300 if you use google's w2v\n",
    "    cnt_words_train =0; # num of words with a valid vector in the train_sentence/review\n",
    "    for word_train in sent_train: # for each word in a train_review/sentence\n",
    "        if word_train in w2v_words_train:\n",
    "            vec_train = w2v_train_model.wv[word_train]\n",
    "            sent_vec_train += vec_train\n",
    "            cnt_words_train += 1\n",
    "    if cnt_words_train != 0:\n",
    "        sent_vec_train /= cnt_words_train\n",
    "    sent_vectors_train.append(sent_vec_train)\n",
    "print(len(sent_vectors_train))\n",
    "print(len(sent_vectors_train[0]))\n",
    "print(type(sent_vectors_train))"
   ]
  },
  {
   "cell_type": "code",
   "execution_count": 35,
   "metadata": {},
   "outputs": [
    {
     "name": "stderr",
     "output_type": "stream",
     "text": [
      "100%|███████████████████████████████████| 18433/18433 [00:34<00:00, 532.27it/s]\n"
     ]
    },
    {
     "name": "stdout",
     "output_type": "stream",
     "text": [
      "18433\n",
      "50\n",
      "<class 'list'>\n"
     ]
    }
   ],
   "source": [
    "# average Word2Vec cv data \n",
    "# compute average word2vec_train for each review.\n",
    "sent_vectors_cv = []; # the avg-cv for each sentence/review is stored in this list\n",
    "final_avgw2v_cv_data=sent_vectors_cv\n",
    "for sent_cv in tqdm(list_of_sentance_cv): # for each train_review/sentence\n",
    "    sent_vec_cv = np.zeros(50) # as word vectors are of zero length 50, you might need to change this to 300 if you use google's w2v\n",
    "    cnt_words_cv =0; # num of words with a valid vector in the train_sentence/review\n",
    "    for word_cv in sent_cv: # for each word in a train_review/sentence\n",
    "        if word_cv in w2v_words_train:\n",
    "            vec_cv = w2v_train_model.wv[word_cv]\n",
    "            sent_vec_cv += vec_cv\n",
    "            cnt_words_cv += 1\n",
    "    if cnt_words_cv != 0:\n",
    "        sent_vec_cv /= cnt_words_cv\n",
    "    sent_vectors_cv.append(sent_vec_cv)\n",
    "print(len(sent_vectors_cv))\n",
    "print(len(sent_vectors_cv[0]))\n",
    "print(type(sent_vectors_cv))"
   ]
  },
  {
   "cell_type": "code",
   "execution_count": 366,
   "metadata": {},
   "outputs": [
    {
     "name": "stderr",
     "output_type": "stream",
     "text": [
      "100%|███████████████████████████████████| 26332/26332 [00:41<00:00, 635.02it/s]\n"
     ]
    },
    {
     "name": "stdout",
     "output_type": "stream",
     "text": [
      "26332\n",
      "50\n",
      "<class 'list'>\n"
     ]
    }
   ],
   "source": [
    "# average Word2Vec test data \n",
    "# compute average word2vec_train for each review.\n",
    "sent_vectors_test = []; # the avg-w2v_train for each sentence/review is stored in this list\n",
    "final_avgw2v_test_data=sent_vectors_test\n",
    "for sent_test in tqdm(list_of_sentance_test): # for each train_review/sentence\n",
    "    sent_vec_test = np.zeros(50) # as word vectors are of zero length 50, you might need to change this to 300 if you use google's w2v\n",
    "    cnt_words_test =0; # num of words with a valid vector in the train_sentence/review\n",
    "    for word_test in sent_test: # for each word in a train_review/sentence\n",
    "        if word_test in w2v_words_train:\n",
    "            vec_test = w2v_train_model.wv[word_test]\n",
    "            sent_vec_test += vec_test\n",
    "            cnt_words_test += 1\n",
    "    if cnt_words_test != 0:\n",
    "        sent_vec_test /= cnt_words_test\n",
    "    sent_vectors_test.append(sent_vec_test)\n",
    "print(len(sent_vectors_test))\n",
    "print(len(sent_vectors_test[0]))\n",
    "print(type(sent_vectors_test))"
   ]
  },
  {
   "cell_type": "markdown",
   "metadata": {
    "colab_type": "text",
    "id": "2sHfb529LPow"
   },
   "source": [
    "#### [4.4.1.2] TFIDF weighted W2v"
   ]
  },
  {
   "cell_type": "code",
   "execution_count": 36,
   "metadata": {
    "colab": {},
    "colab_type": "code",
    "id": "sb_wDjAqLPow"
   },
   "outputs": [
    {
     "name": "stderr",
     "output_type": "stream",
     "text": [
      "100%|████████████████████████████████████| 43008/43008 [39:49<00:00, 22.75it/s]\n"
     ]
    },
    {
     "name": "stdout",
     "output_type": "stream",
     "text": [
      "50\n",
      "43008\n",
      "<class 'list'>\n"
     ]
    }
   ],
   "source": [
    "#tfidf_traindata using  train model\n",
    "tfidfw2v_model_train = TfidfVectorizer()\n",
    "final_tfidfw2v_train=tfidfw2v_model_train.fit(x_train_data)\n",
    "dictionary_train = dict(zip(final_tfidfw2v_train.get_feature_names(), list(final_tfidfw2v_train.idf_)))\n",
    "\n",
    "# TF-IDF weighted Word2Vec\n",
    "tfidf_feat_train = final_tfidfw2v_train.get_feature_names() # tfidf words/col-names\n",
    "# final_tf_idf is the sparse matrix with row= sentence, col=word and cell_val = tfidf\n",
    "\n",
    "tfidf_sent_vectors_train = [];# the tfidf-w2v for each sentence/review is stored in this list\n",
    "final_tfidfw2v_train_data=tfidf_sent_vectors_train\n",
    "row=0;''\n",
    "for sent_train in tqdm(list_of_sentance_train): # for each review/sentence \n",
    "    sent_vec_train = np.zeros(50) # as word vectors are of zero length\n",
    "    weight_sum_train =0; # num of words with a valid vector in the sentence/review\n",
    "    for word in sent_train: # for each word in a review/sentence\n",
    "        if word in w2v_words_train and word in tfidf_feat_train:\n",
    "            vec_train = w2v_train_model.wv[word]\n",
    "             #tf_idf = tf_idf_matrix[row, tfidf_feat.index(word)]\n",
    "            # to reduce the computation we are \n",
    "            # dictionary[word] = idf value of word in whole courpus\n",
    "            # sent.count(word) = tf valeus of word in this review\n",
    "            tf_idf_train = dictionary_train[word]*(sent_train.count(word)/len(sent_train))\n",
    "            sent_vec_train += (vec_train * tf_idf_train)\n",
    "            weight_sum_train += tf_idf_train\n",
    "    if weight_sum_train != 0:\n",
    "        sent_vec_train /= weight_sum_train\n",
    "    tfidf_sent_vectors_train.append(sent_vec_train)\n",
    "    row += 1\n",
    "print(len(sent_vec_train))\n",
    "print(len(tfidf_sent_vectors_train))  \n",
    "print(type(tfidf_sent_vectors_train))  "
   ]
  },
  {
   "cell_type": "code",
   "execution_count": 37,
   "metadata": {
    "colab": {},
    "colab_type": "code",
    "id": "3VrUzqx7LPoy",
    "outputId": "8480d5da-7b1d-4bbe-a4c9-fe0a5800b5d0",
    "scrolled": true
   },
   "outputs": [
    {
     "name": "stderr",
     "output_type": "stream",
     "text": [
      "100%|████████████████████████████████████| 18433/18433 [14:47<00:00, 20.78it/s]\n"
     ]
    },
    {
     "name": "stdout",
     "output_type": "stream",
     "text": [
      "50\n",
      "18433\n",
      "<class 'list'>\n"
     ]
    }
   ],
   "source": [
    "#tfidf_cv_data using  train model\n",
    "tfidfw2v_model_train = TfidfVectorizer()\n",
    "final_tfidfw2v_train=tfidfw2v_model_train.fit(x_train_data)\n",
    "dictionary_train = dict(zip(final_tfidfw2v_train.get_feature_names(), list(final_tfidfw2v_train.idf_)))\n",
    "\n",
    "# TF-IDF weighted Word2Vec\n",
    "tfidf_feat_cv = final_tfidfw2v_train.get_feature_names() # tfidf words/col-names\n",
    "# final_tf_idf is the sparse matrix with row= sentence, col=word and cell_val = tfidf\n",
    "\n",
    "tfidf_sent_vectors_cv = [];# the tfidf-w2v for each sentence/review is stored in this list\n",
    "final_tfidfw2v_cv_data=tfidf_sent_vectors_cv\n",
    "row=0;\n",
    "for sent_cv in tqdm(list_of_sentance_cv): # for each review/sentence \n",
    "    sent_vec_cv = np.zeros(50) # as word vectors are of zero length\n",
    "    weight_sum_cv =0; # num of words with a valid vector in the sentence/review\n",
    "    for word_cv in sent_cv: # for each word in a review/sentence\n",
    "        if word_cv in w2v_words_train and word_cv in tfidf_feat_cv:\n",
    "            vec_cv = w2v_train_model.wv[word_cv]\n",
    "             #tf_idf = tf_idf_matrix[row, tfidf_feat.index(word)]\n",
    "            # to reduce the computation we are \n",
    "            # dictionary[word] = idf value of word in whole courpus\n",
    "            # sent.count(word) = tf valeus of word in this review\n",
    "            tf_idf_cv = dictionary_train[word_cv]*(sent_cv.count(word_cv)/len(sent_cv))\n",
    "            sent_vec_cv += (vec_cv * tf_idf_cv)\n",
    "            weight_sum_cv += tf_idf_cv\n",
    "    if weight_sum_cv != 0:\n",
    "        sent_vec_cv /= weight_sum_cv\n",
    "    tfidf_sent_vectors_cv.append(sent_vec_cv)\n",
    "    row += 1\n",
    "print(len(sent_vec_cv))\n",
    "print(len(tfidf_sent_vectors_cv))  \n",
    "print(type(tfidf_sent_vectors_cv))  "
   ]
  },
  {
   "cell_type": "code",
   "execution_count": 38,
   "metadata": {},
   "outputs": [],
   "source": [
    "#tfidf_test_data using  train model\n",
    "tfidfw2v_model_train = TfidfVectorizer()\n",
    "final_tfidfw2v_train=tfidfw2v_model_train.fit(x_train_data)\n",
    "dictionary_train = dict(zip(final_tfidfw2v_train.get_feature_names(), list(final_tfidfw2v_train.idf_))) "
   ]
  },
  {
   "cell_type": "code",
   "execution_count": 39,
   "metadata": {},
   "outputs": [
    {
     "name": "stderr",
     "output_type": "stream",
     "text": [
      "100%|████████████████████████████████████| 26332/26332 [21:59<00:00, 19.95it/s]\n"
     ]
    },
    {
     "name": "stdout",
     "output_type": "stream",
     "text": [
      "50\n",
      "26332\n",
      "<class 'list'>\n"
     ]
    }
   ],
   "source": [
    "#tfidfw2v on test data \n",
    "tfidf_feat_test = final_tfidfw2v_train.get_feature_names() # tfidf words/col-names\n",
    "# final_tf_idf is the sparse matrix with row= sentence, col=word and cell_val = tfidf\n",
    "\n",
    "tfidf_sent_vectors_test = []; # the tfidf-w2v for each sentence/review is stored in this list\n",
    "final_tfidfw2v_test_data=tfidf_sent_vectors_test\n",
    "row=0;\n",
    "for sent_test in tqdm(list_of_sentance_test): # for each review/sentence \n",
    "    sent_vec_test = np.zeros(50) # as word vectors are of zero length\n",
    "    weight_sum_test =0; # num of words with a valid vector in the sentence/review\n",
    "    for word_test in sent_test: # for each word in a review/sentence\n",
    "        if word_test in w2v_words_train and word_test in tfidf_feat_test:\n",
    "            vec_test = w2v_train_model.wv[word_test]\n",
    "             #tf_idf = tf_idf_matrix[row, tfidf_feat.index(word)]\n",
    "            # to reduce the computation we are \n",
    "            # dictionary[word] = idf value of word in whole courpus\n",
    "            # sent.count(word) = tf valeus of word in this review\n",
    "            tf_idf_test = dictionary_train[word_test]*(sent_test.count(word_test)/len(sent_test))\n",
    "            sent_vec_test += (vec_test * tf_idf_test)\n",
    "            weight_sum_test += tf_idf_test\n",
    "    if weight_sum_test != 0:\n",
    "        sent_vec_test /= weight_sum_test\n",
    "    tfidf_sent_vectors_test.append(sent_vec_test)\n",
    "    row += 1\n",
    "print(len(sent_vec_test))\n",
    "print(len(tfidf_sent_vectors_test))  \n",
    "print(type(tfidf_sent_vectors_test)) "
   ]
  },
  {
   "cell_type": "markdown",
   "metadata": {
    "colab_type": "text",
    "id": "Kxx72u1hLPo1"
   },
   "source": [
    "# [5] Assignment 5: Apply Logistic Regression"
   ]
  },
  {
   "cell_type": "markdown",
   "metadata": {
    "colab_type": "text",
    "id": "KDR9We0oLPo2"
   },
   "source": [
    "<ol>\n",
    "    <li><strong>Apply Logistic Regression on these feature sets</strong>\n",
    "        <ul>\n",
    "            <li><font color='red'>SET 1:</font>Review text, preprocessed one converted into vectors using (BOW)</li>\n",
    "            <li><font color='red'>SET 2:</font>Review text, preprocessed one converted into vectors using (TFIDF)</li>\n",
    "            <li><font color='red'>SET 3:</font>Review text, preprocessed one converted into vectors using (AVG W2v)</li>\n",
    "            <li><font color='red'>SET 4:</font>Review text, preprocessed one converted into vectors using (TFIDF W2v)</li>\n",
    "        </ul>\n",
    "    </li>\n",
    "    <br>\n",
    "    <li><strong>Hyper paramter tuning (find best hyper parameters corresponding the algorithm that you choose)</strong>\n",
    "        <ul>\n",
    "    <li>Find the best hyper parameter which will give the maximum <a href='https://www.appliedaicourse.com/course/applied-ai-course-online/lessons/receiver-operating-characteristic-curve-roc-curve-and-auc-1/'>AUC</a> value</li>\n",
    "    <li>Find the best hyper paramter using k-fold cross validation or simple cross validation data</li>\n",
    "    <li>Use gridsearch cv or randomsearch cv or you can also write your own for loops to do this task of hyperparameter tuning</li>          \n",
    "        </ul>\n",
    "    </li>\n",
    "    <br>\n",
    "    <li><strong>Pertubation Test</strong>\n",
    "        <ul>\n",
    "    <li>Get the weights W after fit your model with the data X i.e Train data.</li>\n",
    "    <li>Add a noise to the X (X' = X + e) and get the new data set X' (if X is a sparse\n",
    "matrix, X.data+=e)</li>\n",
    "    <li>Fit the model again on data X' and get the weights W'</li>\n",
    "    <li>Add a small eps value(to eliminate the divisible by zero error) to W and W’ i.e\n",
    "W=W+10^-6 and W’ = W’+10^-6</li>\n",
    "    <li>Now find the % change between W and W' (| (W-W') / (W) |)*100)</li>\n",
    "    <li>Calculate the 0th, 10th, 20th, 30th, ...100th percentiles, and observe any sudden rise in the values of percentage_change_vector</li>\n",
    "    <li> Ex: consider your 99th percentile is 1.3 and your 100th percentiles are 34.6, there is sudden rise from 1.3 to 34.6, now calculate the 99.1, 99.2, 99.3,..., 100th percentile values and get the proper value after which there is sudden rise the values, assume it is 2.5</li>\n",
    "            <li> Print the feature names whose % change is more than a threshold x(in our example it's 2.5)</li>\n",
    "        </ul>\n",
    "    </li>\n",
    "    <br>\n",
    "    <li><strong>Sparsity</strong>\n",
    "        <ul>\n",
    "    <li>Calculate sparsity on weight vector obtained after using L1 regularization</li>\n",
    "        </ul>\n",
    "    </li>\n",
    "    <br><font color='red'>NOTE: Do sparsity and multicollinearity for any one of the vectorizers. Bow or tf-idf is recommended.</font>\n",
    "    <br>\n",
    "    <br>\n",
    "    <li><strong>Feature importance</strong>\n",
    "        <ul>\n",
    "    <li>Get top 10 important features for both positive and negative classes separately.</li>\n",
    "        </ul>\n",
    "    </li>\n",
    "    <br>\n",
    "    <li><strong>Feature engineering</strong>\n",
    "        <ul>\n",
    "    <li>To increase the performance of your model, you can also experiment with with feature engineering like :</li>\n",
    "            <ul>\n",
    "            <li>Taking length of reviews as another feature.</li>\n",
    "            <li>Considering some features from review summary as well.</li>\n",
    "        </ul>\n",
    "        </ul>\n",
    "    </li>\n",
    "    <br>\n",
    "    <li><strong>Representation of results</strong>\n",
    "        <ul>\n",
    "    <li>You need to plot the performance of model both on train data and cross validation data for each hyper parameter, like shown in the figure.\n",
    "    <img src='train_cv_auc.JPG' width=300px></li>\n",
    "    <li>Once after you found the best hyper parameter, you need to train your model with it, and find the AUC on test data and plot the ROC curve on both train and test.\n",
    "    <img src='train_test_auc.JPG' width=300px></li>\n",
    "    <li>Along with plotting ROC curve, you need to print the <a href='https://www.appliedaicourse.com/course/applied-ai-course-online/lessons/confusion-matrix-tpr-fpr-fnr-tnr-1/'>confusion matrix</a> with predicted and original labels of test data points. Please visualize your confusion matrices using <a href='https://seaborn.pydata.org/generated/seaborn.heatmap.html'>seaborn heatmaps.\n",
    "    <img src='confusion_matrix.png' width=300px></li>\n",
    "        </ul>\n",
    "    </li>\n",
    "    <br>\n",
    "    <li><strong>Conclusion</strong>\n",
    "        <ul>\n",
    "    <li>You need to summarize the results at the end of the notebook, summarize it in the table format. To print out a table please refer to this prettytable library<a href='http://zetcode.com/python/prettytable/'>  link</a> \n",
    "        <img src='summary.JPG' width=400px>\n",
    "    </li>\n",
    "        </ul>\n",
    "</ol>"
   ]
  },
  {
   "cell_type": "markdown",
   "metadata": {
    "colab_type": "text",
    "id": "gilb-DOVLPo2"
   },
   "source": [
    "<h4><font color='red'>Note: Data Leakage</font></h4>\n",
    "\n",
    "1. There will be an issue of data-leakage if you vectorize the entire data and then split it into train/cv/test.\n",
    "2. To avoid the issue of data-leakag, make sure to split your data first and then vectorize it. \n",
    "3. While vectorizing your data, apply the method fit_transform() on you train data, and apply the method transform() on cv/test data.\n",
    "4. For more details please go through this <a href='https://soundcloud.com/applied-ai-course/leakage-bow-and-tfidf'>link.</a>"
   ]
  },
  {
   "cell_type": "markdown",
   "metadata": {
    "colab_type": "text",
    "id": "jiYocvSHLPo4"
   },
   "source": [
    "# Applying Logistic Regression"
   ]
  },
  {
   "cell_type": "markdown",
   "metadata": {
    "colab_type": "text",
    "id": "LE_XPVZJLPo4"
   },
   "source": [
    "## [5.1] Logistic Regression on BOW,<font color='red'> SET 1</font>"
   ]
  },
  {
   "cell_type": "markdown",
   "metadata": {
    "colab_type": "text",
    "id": "_iciJvj2LPo4"
   },
   "source": [
    "### [5.1.1] Applying Logistic Regression with L1 regularization on BOW,<font color='red'> SET 1</font>"
   ]
  },
  {
   "cell_type": "code",
   "execution_count": 867,
   "metadata": {
    "colab": {},
    "colab_type": "code",
    "id": "MyOVi-xYLPo5"
   },
   "outputs": [
    {
     "name": "stdout",
     "output_type": "stream",
     "text": [
      "C =  0.0001 \t cv_auc_score\t: 0.8601664773270197 \t train_auc_score\t: 0.8713549275492358\n",
      "C =  0.001 \t cv_auc_score\t: 0.9034136434256674 \t train_auc_score\t: 0.917464411231701\n",
      "C =  0.01 \t cv_auc_score\t: 0.9301624693429029 \t train_auc_score\t: 0.9555527656528023\n",
      "C =  0.1 \t cv_auc_score\t: 0.9363209846723362 \t train_auc_score\t: 0.9820243823107915\n",
      "C =  1 \t cv_auc_score\t: 0.9304976182134124 \t train_auc_score\t: 0.9974311525017185\n",
      "C =  10 \t cv_auc_score\t: 0.9214491516876002 \t train_auc_score\t: 0.9999900440227171\n",
      "C =  100 \t cv_auc_score\t: 0.9147899701303436 \t train_auc_score\t: 1.0\n",
      "C =  1000 \t cv_auc_score\t: 0.91092980807684 \t train_auc_score\t: 1.0\n",
      "C =  10000 \t cv_auc_score\t: 0.9087171000244194 \t train_auc_score\t: 1.0\n"
     ]
    },
    {
     "data": {
      "image/png": "[encoded data removed]",
      "text/plain": [
       "<Figure size 432x288 with 1 Axes>"
      ]
     },
     "metadata": {},
     "output_type": "display_data"
    }
   ],
   "source": [
    "# Please write all the code with proper documentation\n",
    "#finding the best hyper parameter lambda with representaion as 'C'\n",
    "from sklearn import metrics\n",
    "from sklearn.metrics import roc_auc_score\n",
    "import numpy as np\n",
    "from sklearn.linear_model import LogisticRegression\n",
    "\n",
    "train_auc = []\n",
    "cv_auc = []\n",
    "C = [0.0001,0.001,0.01,0.1,1,10,100,1000,10000]\n",
    "for i in C:\n",
    "    lg_bow_l1 = LogisticRegression(C=i,class_weight='balanced')# The “balanced” mode uses the values of y to automatically adjust weights inversely proportional to class frequencies\n",
    "    lg_bow_l1.fit(final_bow_train_data, y_train_data)\n",
    "    # roc_auc_score(y_true, y_score) the 2nd parameter should be probability estimates of the positive class\n",
    "    # not the predicted outputs\n",
    "    y_train_pred =  lg_bow_l1.predict_proba(final_bow_train_data)[:,1]\n",
    "    y_cv_pred =  lg_bow_l1.predict_proba(final_bow_cv_data)[:,1]\n",
    "    train_auc_score=roc_auc_score(y_train_data,y_train_pred)\n",
    "    train_auc.append(train_auc_score)\n",
    "    cv_auc_score=roc_auc_score(y_cv_data, y_cv_pred)\n",
    "    cv_auc.append(cv_auc_score)\n",
    "    print(\"C = \",i ,\"\\t\",\"cv_auc_score\\t:\",cv_auc_score, \"\\t\",\"train_auc_score\\t:\",train_auc_score)\n",
    "#plotting\n",
    "log_c = [math.log10(num) for num in C]\n",
    "\n",
    "plt.plot(log_c, train_auc, label='Train AUC')\n",
    "plt.plot(log_c, cv_auc, label='CV AUC')\n",
    "plt.legend()\n",
    "plt.xlabel(\"log_c\")\n",
    "plt.ylabel(\"AUC\")\n",
    "plt.title(\"AUC vs C\")\n",
    "plt.show()"
   ]
  },
  {
   "cell_type": "markdown",
   "metadata": {},
   "source": [
    "Here we got optimal C = 0.1 <br>\n",
    "At    cv_auc    = 0.936<br>\n",
    "      train_auc = 0.951\n"
   ]
  },
  {
   "cell_type": "code",
   "execution_count": 868,
   "metadata": {},
   "outputs": [
    {
     "data": {
      "image/png": "[encoded data removed]",
      "text/plain": [
       "<Figure size 432x288 with 1 Axes>"
      ]
     },
     "metadata": {},
     "output_type": "display_data"
    }
   ],
   "source": [
    "#performing the nb with optimal alpha for bow vectorizer \n",
    "from sklearn.metrics import roc_curve, auc\n",
    "\n",
    "lg_bow_l1 = LogisticRegression(C=0.1,penalty= 'l1' ,class_weight='balanced')\n",
    "lg_bow_l1.fit(final_bow_train_data, y_train_data)\n",
    "\n",
    "\n",
    "bow_train_fpr, bow_train_tpr, bow_thresholds = roc_curve(y_train_data, lg_bow_l1.predict_proba(final_bow_train_data)[:,1])\n",
    "bow_test_fpr, bow_test_tpr, bow_thresholds = roc_curve(y_test_data, lg_bow_l1.predict_proba(final_bow_test_data)[:,1])\n",
    "\n",
    "plt.plot(bow_train_fpr, bow_train_tpr, label=\"train AUC =\"+str(auc(bow_train_fpr, bow_train_tpr)))\n",
    "plt.plot(bow_test_fpr, bow_test_tpr, label=\"test AUC =\"+str(auc(bow_test_fpr, bow_test_tpr)))\n",
    "plt.legend()\n",
    "plt.xlabel(\"alpha\")\n",
    "plt.ylabel(\"AUC\")\n",
    "plt.title(\"ROC CURVES ON TRAIN AND TEST \")\n",
    "plt.show()"
   ]
  },
  {
   "cell_type": "code",
   "execution_count": 871,
   "metadata": {},
   "outputs": [
    {
     "name": "stdout",
     "output_type": "stream",
     "text": [
      "Bow train confusion matrix\n",
      "[[ 6309  4002]\n",
      " [  731 31966]]\n"
     ]
    },
    {
     "data": {
      "image/png": "[encoded data removed]",
      "text/plain": [
       "<Figure size 432x288 with 2 Axes>"
      ]
     },
     "metadata": {},
     "output_type": "display_data"
    }
   ],
   "source": [
    "#Bow Train data confusion matrix\n",
    "from sklearn.metrics import confusion_matrix\n",
    "print(\"Bow train confusion matrix\")\n",
    "bow_cm_train = confusion_matrix(lg_bow_l1.predict(final_bow_train_data),y_train_data)\n",
    "sns.heatmap(bow_cm_train, annot=True, fmt=\"d\")\n",
    "plt.title(\"Bow Train confusion matrix with  penalty L1 \")\n",
    "plt.xlabel(\"predictual\")\n",
    "plt.ylabel(\"Actual\")\n",
    "print(bow_cm_train)"
   ]
  },
  {
   "cell_type": "markdown",
   "metadata": {},
   "source": [
    "Bow Train confusion matrix with  penalty L1 <br>\n",
    "31966+6309 are correctly predicted <br>\n",
    "731+4002 are in-correctly predicted "
   ]
  },
  {
   "cell_type": "code",
   "execution_count": 880,
   "metadata": {},
   "outputs": [
    {
     "name": "stdout",
     "output_type": "stream",
     "text": [
      "Bow test confusion matrix\n",
      "[[ 3556  2652]\n",
      " [  672 19452]]\n"
     ]
    },
    {
     "data": {
      "image/png": "[encoded data removed]",
      "text/plain": [
       "<Figure size 432x288 with 2 Axes>"
      ]
     },
     "metadata": {},
     "output_type": "display_data"
    }
   ],
   "source": [
    "#Bow Test data confusion matrix\n",
    "from sklearn.metrics import confusion_matrix\n",
    "print(\"Bow test confusion matrix\")\n",
    "bow_cm_test = confusion_matrix(lg_bow_l1.predict(final_bow_test_data),y_test_data)\n",
    "sns.heatmap(bow_cm_test, annot=True, fmt=\"d\")\n",
    "plt.title(\"Bow Test confusion matrix with  penalty L1 \")\n",
    "plt.xlabel(\"predictual\")\n",
    "plt.ylabel(\"Actual\")\n",
    "print(bow_cm_test)"
   ]
  },
  {
   "cell_type": "markdown",
   "metadata": {},
   "source": [
    "Bow Test confusion matrix with  penalty L1 <br>\n",
    "19452+3556 are correctly predicted <br>\n",
    "672+2652 are in-correctly predicted "
   ]
  },
  {
   "cell_type": "markdown",
   "metadata": {
    "colab_type": "text",
    "id": "5h4NhywcLPo7"
   },
   "source": [
    "#### [5.1.1.1] Calculating sparsity on weight vector obtained using L1 regularization on BOW,<font color='red'> SET 1</font>"
   ]
  },
  {
   "cell_type": "code",
   "execution_count": 205,
   "metadata": {
    "colab": {},
    "colab_type": "code",
    "id": "-mmdLzUALPo-"
   },
   "outputs": [
    {
     "name": "stdout",
     "output_type": "stream",
     "text": [
      "1013\n"
     ]
    }
   ],
   "source": [
    "# Please write all the code with proper documentation\n",
    "clf = LogisticRegression(C=0.1, penalty='l1',class_weight='balanced');\n",
    "clf.fit(final_bow_train_data, y_train_data);\n",
    "feature_weights = clf.coef_\n",
    "print(np.count_nonzero(w))"
   ]
  },
  {
   "cell_type": "markdown",
   "metadata": {
    "colab_type": "text",
    "id": "aRHMa52qLPpA"
   },
   "source": [
    "### [5.1.2] Applying Logistic Regression with L2 regularization on BOW,<font color='red'> SET 1</font>"
   ]
  },
  {
   "cell_type": "code",
   "execution_count": 249,
   "metadata": {},
   "outputs": [
    {
     "name": "stdout",
     "output_type": "stream",
     "text": [
      "C =  0.0001 \t cv_auc_score\t: 0.8600401329270494 \t train_auc_score\t: 0.8711594886742761\n",
      "C =  0.001 \t cv_auc_score\t: 0.9033159875212786 \t train_auc_score\t: 0.9173064978212957\n",
      "C =  0.01 \t cv_auc_score\t: 0.9301240263164414 \t train_auc_score\t: 0.955449963572418\n",
      "C =  0.1 \t cv_auc_score\t: 0.9363254748532175 \t train_auc_score\t: 0.9819527869469832\n",
      "C =  1 \t cv_auc_score\t: 0.9305209317634069 \t train_auc_score\t: 0.9974052100920516\n",
      "C =  10 \t cv_auc_score\t: 0.9214714477581831 \t train_auc_score\t: 0.9999896885931434\n",
      "C =  100 \t cv_auc_score\t: 0.9148055751678399 \t train_auc_score\t: 1.0\n",
      "C =  1000 \t cv_auc_score\t: 0.9108786023194992 \t train_auc_score\t: 1.0\n",
      "C =  10000 \t cv_auc_score\t: 0.9090155864574375 \t train_auc_score\t: 1.0\n"
     ]
    }
   ],
   "source": [
    "#caluclating hypermater twice because of getting correct to 10 positive and negative features for clear view by changing model fit names \n",
    "train_auc = []\n",
    "cv_auc = []\n",
    "C = [0.0001,0.001,0.01,0.1,1,10,100,1000,10000]\n",
    "for i in C:\n",
    "    lg_bow_l2 = LogisticRegression(C=i,class_weight='balanced')# The “balanced” mode uses the values of y to automatically adjust weights inversely proportional to class frequencies\n",
    "    lg_bow_l2.fit(final_bow_train_data, y_train_data)\n",
    "    # roc_auc_score(y_true, y_score) the 2nd parameter should be probability estimates of the positive class\n",
    "    # not the predicted outputs\n",
    "    y_train_pred =  lg_bow_l2.predict_proba(final_bow_train_data)[:,1]\n",
    "    y_cv_pred =  lg_bow_l2.predict_proba(final_bow_cv_data)[:,1]\n",
    "    train_auc_score=roc_auc_score(y_train_data,y_train_pred)\n",
    "    train_auc.append(train_auc_score)\n",
    "    cv_auc_score=roc_auc_score(y_cv_data, y_cv_pred)\n",
    "    cv_auc.append(cv_auc_score)\n",
    "    print(\"C = \",i ,\"\\t\",\"cv_auc_score\\t:\",cv_auc_score, \"\\t\",\"train_auc_score\\t:\",train_auc_score)"
   ]
  },
  {
   "cell_type": "code",
   "execution_count": 250,
   "metadata": {},
   "outputs": [
    {
     "data": {
      "image/png": "[encoded data removed]",
      "text/plain": [
       "<Figure size 432x288 with 1 Axes>"
      ]
     },
     "metadata": {},
     "output_type": "display_data"
    }
   ],
   "source": [
    "#applying log regression with l2 penality \n",
    "lg_bow_l2 = LogisticRegression(C=0.1,penalty= 'l2' ,class_weight='balanced')\n",
    "lg_bow_l2.fit(final_bow_train_data, y_train_data)\n",
    "\n",
    "\n",
    "bow_train_fpr, bow_train_tpr, bow_thresholds = roc_curve(y_train_data, lg_bow_l2.predict_proba(final_bow_train_data)[:,1])\n",
    "bow_test_fpr, bow_test_tpr, bow_thresholds = roc_curve(y_test_data, lg_bow_l2.predict_proba(final_bow_test_data)[:,1])\n",
    "\n",
    "plt.plot(bow_train_fpr, bow_train_tpr, label=\"train AUC =\"+str(auc(bow_train_fpr, bow_train_tpr)))\n",
    "plt.plot(bow_test_fpr, bow_test_tpr, label=\"test AUC =\"+str(auc(bow_test_fpr, bow_test_tpr)))\n",
    "plt.legend()\n",
    "plt.xlabel(\"alpha\")\n",
    "plt.ylabel(\"AUC\")\n",
    "plt.title(\"ROC CURVES ON TRAIN AND TEST \")\n",
    "plt.show()"
   ]
  },
  {
   "cell_type": "code",
   "execution_count": 251,
   "metadata": {},
   "outputs": [
    {
     "name": "stdout",
     "output_type": "stream",
     "text": [
      "Bow train confusion matrix\n",
      "[[ 6679  2609]\n",
      " [  361 33359]]\n"
     ]
    },
    {
     "data": {
      "image/png": "[encoded data removed]",
      "text/plain": [
       "<Figure size 432x288 with 2 Axes>"
      ]
     },
     "metadata": {},
     "output_type": "display_data"
    }
   ],
   "source": [
    "#Bow Train data confusion matrix\n",
    "from sklearn.metrics import confusion_matrix\n",
    "print(\"Bow train confusion matrix\")\n",
    "bow_cm_train = confusion_matrix(lg_bow_l2.predict(final_bow_train_data),y_train_data)\n",
    "sns.heatmap(bow_cm_train, annot=True, fmt=\"d\")\n",
    "plt.title(\"Bow Train confusion matrix with  penalty L2\")\n",
    "plt.xlabel(\"predictual\")\n",
    "plt.ylabel(\"Actual\")\n",
    "print(bow_cm_train)"
   ]
  },
  {
   "cell_type": "markdown",
   "metadata": {},
   "source": [
    "Bow train confusion matrix with  penalty L2 <br>\n",
    "33359+6679 are correctly predicted <br>\n",
    "361+2609 are in-correctly predicted "
   ]
  },
  {
   "cell_type": "code",
   "execution_count": 879,
   "metadata": {},
   "outputs": [
    {
     "name": "stdout",
     "output_type": "stream",
     "text": [
      "Bow test confusion matrix\n",
      "[[ 3511  2152]\n",
      " [  717 19952]]\n"
     ]
    },
    {
     "data": {
      "image/png": "[encoded data removed]",
      "text/plain": [
       "<Figure size 432x288 with 2 Axes>"
      ]
     },
     "metadata": {},
     "output_type": "display_data"
    }
   ],
   "source": [
    "#Bow Test data confusion matrix\n",
    "from sklearn.metrics import confusion_matrix\n",
    "print(\"Bow test confusion matrix\")\n",
    "bow_cm_test = confusion_matrix(lg_bow_l2.predict(final_bow_test_data),y_test_data)\n",
    "sns.heatmap(bow_cm_test, annot=True, fmt=\"d\")\n",
    "plt.title(\"Bow test confusion matrix with  penalty L2\")\n",
    "plt.xlabel(\"predictual\")\n",
    "plt.ylabel(\"Actual\")\n",
    "print(bow_cm_test)"
   ]
  },
  {
   "cell_type": "markdown",
   "metadata": {},
   "source": [
    "Bow Test confusion matrix with  penalty L2 <br>\n",
    "19952+3511 are correctly predicted <br>\n",
    "717+2152 are in-correctly predicted "
   ]
  },
  {
   "cell_type": "code",
   "execution_count": null,
   "metadata": {},
   "outputs": [],
   "source": []
  },
  {
   "cell_type": "markdown",
   "metadata": {
    "colab_type": "text",
    "id": "UaJkugTKLPpE"
   },
   "source": [
    "#### [5.1.2.1] Performing pertubation test  with  penalty L1(multicollinearity check) on BOW,<font color='red'> SET 1</font>"
   ]
  },
  {
   "cell_type": "code",
   "execution_count": 838,
   "metadata": {},
   "outputs": [],
   "source": [
    "#fitting the model with \n",
    "from sklearn.linear_model import LogisticRegression\n",
    "#applying lg on above bow fitted data\n",
    "clf = LogisticRegression(C= 0.1, penalty= 'l1' ,class_weight='balanced')\n",
    "clf.fit(final_bow_train_data,y_train_data) #fitting the lg model \n",
    "fea_wei=clf.coef_ #feature_weights \n",
    "weight = fea_wei + 0.000001 #here avoiding divisible by zero errors"
   ]
  },
  {
   "cell_type": "code",
   "execution_count": 839,
   "metadata": {
    "colab": {},
    "colab_type": "code",
    "id": "E1c5B1nELPpF"
   },
   "outputs": [],
   "source": [
    "# Please write all the code with proper documentation\n",
    "#adding noise to final_bow_train_data\n",
    "e = np.random.normal(0, 0.001) # here adding noise to data \n",
    "final_bow_train_data.data = final_bow_train_data.data + e"
   ]
  },
  {
   "cell_type": "code",
   "execution_count": 840,
   "metadata": {},
   "outputs": [],
   "source": [
    "#applying lg on noisy bow  data \n",
    "noise_clf = LogisticRegression(C= 0.1, penalty= 'l1' ,class_weight='balanced')\n",
    "noise_clf.fit(final_bow_train_data,y_train_data) #fitting the lg noise model \n",
    "fea_wei_noise=noise_clf.coef_ #feature_weights \n",
    "noise_weight = fea_wei_noise + 0.000001 #here avoiding divisible by zero errors"
   ]
  },
  {
   "cell_type": "code",
   "execution_count": 857,
   "metadata": {},
   "outputs": [],
   "source": [
    "#difference between weights \n",
    "weight_diff=abs(((weight-noise_weight) / (weight))*100)\n"
   ]
  },
  {
   "cell_type": "code",
   "execution_count": 858,
   "metadata": {},
   "outputs": [
    {
     "name": "stdout",
     "output_type": "stream",
     "text": [
      "99.0 th value is  0.4325787370135392\n",
      "99.1 th value is  0.4870731057933746\n",
      "99.19999999999999 th value is  0.5389048576589717\n",
      "99.29999999999998 th value is  0.5925089597634816\n",
      "99.39999999999998 th value is  0.6531662589559211\n",
      "99.49999999999997 th value is  0.805123257901815\n",
      "99.59999999999997 th value is  1.1539263117826848\n",
      "99.69999999999996 th value is  1.9956225095257927\n",
      "99.79999999999995 th value is  3.9168559635521394\n",
      "99.89999999999995 th value is  10.06324924022942\n"
     ]
    }
   ],
   "source": [
    "#checking percentiles of wei_diff\n",
    "p=np.arange(99,100,0.1)\n",
    "for i in p:\n",
    "    per=np.percentile(wei_diff,i)\n",
    "    print(i,\"th\",\"value is \",per)"
   ]
  },
  {
   "cell_type": "code",
   "execution_count": 859,
   "metadata": {},
   "outputs": [
    {
     "name": "stdout",
     "output_type": "stream",
     "text": [
      "Threshold---> 10.063249240230341\n"
     ]
    }
   ],
   "source": [
    "p = np.percentile(wei_diff,99.9)#here 99.8th percentile  is threshold  because there is a sudden change at 99.9 percentile \n",
    "print(\"Threshold--->\",p)#here it is a threshold value "
   ]
  },
  {
   "cell_type": "code",
   "execution_count": 864,
   "metadata": {},
   "outputs": [
    {
     "name": "stdout",
     "output_type": "stream",
     "text": [
      "Features contain more differences between weights weight and noise_weight\n",
      "         features    wei_diff\n",
      "19895    flimsi  100.169334\n",
      "29489    island   20.181429\n",
      "41626   process   15.846397\n",
      "46272  shouldnt   14.506533\n",
      "51869    thrill   14.173046\n",
      "1047         67    9.870603\n",
      "4564    barbecu    9.574431\n",
      "1351         96    8.902849\n",
      "47268    sodium    7.950741\n",
      "52982      tube    6.535008\n"
     ]
    }
   ],
   "source": [
    "df = pd.DataFrame()\n",
    "df['features'] = count_vect.get_feature_names()\n",
    "df['wei_diff'] = weight_diff[0]\n",
    "df = df.sort_values('wei_diff',ascending = False)[:10]\n",
    "print(\"Features contain more differences between weights weight and noise_weight\\n \",df)\n"
   ]
  },
  {
   "cell_type": "markdown",
   "metadata": {},
   "source": [
    "Above Features are   more weight's diffrences  "
   ]
  },
  {
   "cell_type": "markdown",
   "metadata": {
    "colab_type": "text",
    "id": "eB1rF0BQLPpG"
   },
   "source": [
    "### [5.1.3] Feature Importance on BOW,<font color='red'> SET 1</font>"
   ]
  },
  {
   "cell_type": "markdown",
   "metadata": {
    "colab_type": "text",
    "id": "JZTP19dqLPpI"
   },
   "source": [
    "#### [5.1.3.1] Top 10 important features of positive class from<font color='red'> SET 1</font>"
   ]
  },
  {
   "cell_type": "code",
   "execution_count": 353,
   "metadata": {
    "colab": {},
    "colab_type": "code",
    "id": "oGRpCVJgLPpI"
   },
   "outputs": [
    {
     "name": "stdout",
     "output_type": "stream",
     "text": [
      "BOW Positive_Features\n",
      "_________________\n",
      "1.7485\tdoglove        \n",
      "1.5887\tgreatproduct   \n",
      "1.5052\tyummi          \n",
      "1.5017\tdelici         \n",
      "1.4143\tperfect        \n",
      "1.3895\tloveb          \n",
      "1.3867\tawesom         \n",
      "1.3026\texcel          \n",
      "1.2777\tyum            \n",
      "1.2481\tamaz           \n"
     ]
    }
   ],
   "source": [
    "#Code Reference:https://stackoverflow.com/questions/11116697/how-to-get-most-informative-features-for-scikit-learn-classifiers\n",
    "def show_most_informative_features(count_vect, lg_bow_l1, n=10):\n",
    "    feature_names = count_vect.get_feature_names()\n",
    "    coefs_with_fns = sorted(zip(lg_bow_l1.coef_[0], feature_names))\n",
    "    top = coefs_with_fns[:-(n + 1):-1]\n",
    "    print(\"BOW Positive_Features\")\n",
    "    print(\"_________________\")\n",
    "    for (coef_1, fn_1) in top:\n",
    "        print(\"%.4f\\t%-15s\" % (coef_1, fn_1))\n",
    "show_most_informative_features(count_vect,lg_bow_l1)"
   ]
  },
  {
   "cell_type": "markdown",
   "metadata": {
    "colab_type": "text",
    "id": "UJLYBE1gLPpJ"
   },
   "source": [
    "#### [5.1.3.2] Top 10 important features of negative class from<font color='red'> SET 1</font>"
   ]
  },
  {
   "cell_type": "code",
   "execution_count": 354,
   "metadata": {
    "colab": {},
    "colab_type": "code",
    "id": "c9r7Zjx1LPpK"
   },
   "outputs": [
    {
     "name": "stdout",
     "output_type": "stream",
     "text": [
      "BOW Negative_Features\n",
      "_________________\n",
      "-2.2864\tworst          \n",
      "-1.6987\tdisappoint     \n",
      "-1.5119\taw             \n",
      "-1.4788\thorribl        \n",
      "-1.4316\tyuck           \n",
      "-1.4259\tbland          \n",
      "-1.4235\tterribl        \n",
      "-1.3931\tcancel         \n",
      "-1.3893\tunfortun       \n",
      "-1.3618\ttasteless      \n"
     ]
    }
   ],
   "source": [
    "# Please write all the code with proper documentation\n",
    "def show_most_informative_features(count_vect, lg_bow_l1, n=10):\n",
    "    feature_names = count_vect.get_feature_names()\n",
    "    coefs_with_fns = sorted(zip(lg_bow_l1.coef_[0], feature_names))\n",
    "    top = coefs_with_fns[:n]\n",
    "    print(\"BOW Negative_Features\")\n",
    "    print(\"_________________\")\n",
    "    for (coef_2, fn_2) in top:\n",
    "        print(\"%.4f\\t%-15s\" % (coef_2, fn_2))\n",
    "show_most_informative_features(count_vect,lg_bow_l1)"
   ]
  },
  {
   "cell_type": "markdown",
   "metadata": {
    "colab_type": "text",
    "id": "nKn3VXcZLPpN"
   },
   "source": [
    "## [5.2] Logistic Regression on TFIDF,<font color='red'> SET 2</font>"
   ]
  },
  {
   "cell_type": "markdown",
   "metadata": {
    "colab_type": "text",
    "id": "naTBSzm6LPpN"
   },
   "source": [
    "### [5.2.1] Applying Logistic Regression with L1 regularization on TFIDF,<font color='red'> SET 2</font>"
   ]
  },
  {
   "cell_type": "code",
   "execution_count": 356,
   "metadata": {
    "colab": {},
    "colab_type": "code",
    "id": "PEhaagXXLPpS"
   },
   "outputs": [
    {
     "name": "stdout",
     "output_type": "stream",
     "text": [
      "C =  0.0001 \t cv_auc_score\t: 0.9104848377872388 \t train_auc_score\t: 0.9364058179556068\n",
      "C =  0.001 \t cv_auc_score\t: 0.9108686265974426 \t train_auc_score\t: 0.9368802414014477\n",
      "C =  0.01 \t cv_auc_score\t: 0.9142490249892943 \t train_auc_score\t: 0.9411378532811995\n",
      "C =  0.1 \t cv_auc_score\t: 0.9302063979105397 \t train_auc_score\t: 0.9634726685715587\n",
      "C =  1 \t cv_auc_score\t: 0.9484985542944709 \t train_auc_score\t: 0.9944963705111614\n",
      "C =  10 \t cv_auc_score\t: 0.9546641919797849 \t train_auc_score\t: 0.9999745591409536\n",
      "C =  100 \t cv_auc_score\t: 0.955525930683994 \t train_auc_score\t: 1.0\n",
      "C =  1000 \t cv_auc_score\t: 0.9555984813898593 \t train_auc_score\t: 1.0\n",
      "C =  10000 \t cv_auc_score\t: 0.9555457936516363 \t train_auc_score\t: 1.0\n"
     ]
    },
    {
     "data": {
      "image/png": "[encoded data removed]",
      "text/plain": [
       "<Figure size 432x288 with 1 Axes>"
      ]
     },
     "metadata": {},
     "output_type": "display_data"
    }
   ],
   "source": [
    "# Please write all the code with proper documentation\n",
    "#finding the optimal hyper parameter \n",
    "train_auc = []\n",
    "cv_auc = []\n",
    "C = [0.0001,0.001,0.01,0.1,1,10,100,1000,10000]\n",
    "for i in C:\n",
    "    lg_tfidf_l1 = LogisticRegression(C=i,class_weight='balanced')# The “balanced” mode uses the values of y to automatically adjust weights inversely proportional to class frequencies\n",
    "    lg_tfidf_l1.fit(final_tfidf_train_data, y_train_data)\n",
    "    # roc_auc_score(y_true, y_score) the 2nd parameter should be probability estimates of the positive class\n",
    "    # not the predicted outputs\n",
    "    y_train_pred =  lg_tfidf_l1.predict_proba(final_tfidf_train_data)[:,1]\n",
    "    y_cv_pred =  lg_tfidf_l1.predict_proba(final_tfidf_cv_data)[:,1]\n",
    "    train_auc_score=roc_auc_score(y_train_data,y_train_pred)\n",
    "    train_auc.append(train_auc_score)\n",
    "    cv_auc_score=roc_auc_score(y_cv_data, y_cv_pred)\n",
    "    cv_auc.append(cv_auc_score)\n",
    "    print(\"C = \",i ,\"\\t\",\"cv_auc_score\\t:\",cv_auc_score, \"\\t\",\"train_auc_score\\t:\",train_auc_score)\n",
    "\n",
    "#plotting \n",
    "log_c = [math.log10(num) for num in C]\n",
    "plt.plot(log_c, train_auc, label='Train AUC')\n",
    "plt.plot(log_c, cv_auc, label='CV AUC')\n",
    "plt.legend()\n",
    "plt.xlabel(\"log_c\")\n",
    "plt.ylabel(\"AUC\")\n",
    "plt.title(\"AUC vs C\")\n",
    "plt.show()"
   ]
  },
  {
   "cell_type": "markdown",
   "metadata": {},
   "source": [
    "Here we got tfidf optimal C = 10 <br>\n",
    "At    cv_auc    = 0.955<br>\n",
    "      train_auc = 0.999\n"
   ]
  },
  {
   "cell_type": "code",
   "execution_count": 358,
   "metadata": {},
   "outputs": [
    {
     "data": {
      "image/png": "[encoded data removed]",
      "text/plain": [
       "<Figure size 432x288 with 1 Axes>"
      ]
     },
     "metadata": {},
     "output_type": "display_data"
    }
   ],
   "source": [
    "#applyng logistic regression with l1 penalty \n",
    "lg_tfidf_l1 = LogisticRegression(C=10,penalty= 'l1' ,class_weight='balanced')\n",
    "lg_tfidf_l1.fit(final_tfidf_train_data, y_train_data)\n",
    "\n",
    "\n",
    "tfidf_train_fpr, tfidf_train_tpr, tfidf_thresholds = roc_curve(y_train_data, lg_tfidf_l1.predict_proba(final_tfidf_train_data)[:,1])\n",
    "tfidf_test_fpr, tfidf_test_tpr, tfidf_thresholds = roc_curve(y_test_data, lg_tfidf_l1.predict_proba(final_tfidf_test_data)[:,1])\n",
    "\n",
    "plt.plot(tfidf_train_fpr, tfidf_train_tpr, label=\"train AUC =\"+str(auc(tfidf_train_fpr, tfidf_train_tpr)))\n",
    "plt.plot(tfidf_test_fpr, tfidf_test_tpr, label=\"test AUC =\"+str(auc(tfidf_test_fpr, tfidf_test_tpr)))\n",
    "plt.legend()\n",
    "plt.xlabel(\"alpha\")\n",
    "plt.ylabel(\"AUC\")\n",
    "plt.title(\"ROC CURVES ON TRAIN AND TEST \")\n",
    "plt.show()"
   ]
  },
  {
   "cell_type": "code",
   "execution_count": 359,
   "metadata": {},
   "outputs": [
    {
     "name": "stdout",
     "output_type": "stream",
     "text": [
      "TFIDF train confusion matrix\n",
      "[[ 7040   512]\n",
      " [    0 35456]]\n"
     ]
    },
    {
     "data": {
      "image/png": "[encoded data removed]",
      "text/plain": [
       "<Figure size 432x288 with 2 Axes>"
      ]
     },
     "metadata": {},
     "output_type": "display_data"
    }
   ],
   "source": [
    "#TFIDF Train data confusion matrix\n",
    "from sklearn.metrics import confusion_matrix\n",
    "print(\"TFIDF train confusion matrix\")\n",
    "tfidf_cm_train = confusion_matrix(lg_tfidf_l1.predict(final_tfidf_train_data),y_train_data)\n",
    "sns.heatmap(tfidf_cm_train, annot=True, fmt=\"d\")\n",
    "plt.title(\"TFIDF  Train confusion matrix with  penalty L1 \")\n",
    "plt.xlabel(\"predictual\")\n",
    "plt.ylabel(\"Actual\")\n",
    "print(tfidf_cm_train)"
   ]
  },
  {
   "cell_type": "markdown",
   "metadata": {},
   "source": [
    "Tfidf train confusion matrix with  penalty L1 <br>\n",
    "35456+7040 are correctly predicted <br>\n",
    "0+512 are in-correctly predicted \n",
    "\n"
   ]
  },
  {
   "cell_type": "code",
   "execution_count": 877,
   "metadata": {},
   "outputs": [
    {
     "name": "stdout",
     "output_type": "stream",
     "text": [
      "tfidf test confusion matrix\n",
      "[[ 3317  1404]\n",
      " [  911 20700]]\n"
     ]
    },
    {
     "data": {
      "image/png": "[encoded data removed]",
      "text/plain": [
       "<Figure size 432x288 with 2 Axes>"
      ]
     },
     "metadata": {},
     "output_type": "display_data"
    }
   ],
   "source": [
    "#tfidf Test data confusion matrix\n",
    "from sklearn.metrics import confusion_matrix\n",
    "print(\"tfidf test confusion matrix\")\n",
    "tfidf_cm_test = confusion_matrix(lg_tfidf_l1.predict(final_tfidf_test_data),y_test_data)\n",
    "sns.heatmap(tfidf_cm_test, annot=True, fmt=\"d\")\n",
    "plt.title(\"tfidf test confusion matrix with  penalty L1 \")\n",
    "plt.xlabel(\"predictual\")\n",
    "plt.ylabel(\"Actual\")\n",
    "print(tfidf_cm_test)"
   ]
  },
  {
   "cell_type": "markdown",
   "metadata": {},
   "source": [
    "Tfidf test confusion matrix with  penalty L1 <br>\n",
    "20700+3317 are correctly predicted <br>\n",
    "911+1404 are in-correctly predicted "
   ]
  },
  {
   "cell_type": "markdown",
   "metadata": {
    "colab_type": "text",
    "id": "NdFShHQJLPpV"
   },
   "source": [
    "### [5.2.2] Applying Logistic Regression with L2 regularization on TFIDF,<font color='red'> SET 2</font>"
   ]
  },
  {
   "cell_type": "code",
   "execution_count": 361,
   "metadata": {
    "colab": {},
    "colab_type": "code",
    "id": "Jyhq3JDzLPpW"
   },
   "outputs": [
    {
     "data": {
      "image/png": "[encoded data removed]",
      "text/plain": [
       "<Figure size 432x288 with 1 Axes>"
      ]
     },
     "metadata": {},
     "output_type": "display_data"
    }
   ],
   "source": [
    "# Please write all the code with proper documentation\n",
    "lg_tfidf_l2 = LogisticRegression(C=10,penalty= 'l2' ,class_weight='balanced')\n",
    "lg_tfidf_l2.fit(final_tfidf_train_data, y_train_data)\n",
    "\n",
    "\n",
    "tfidf_train_fpr, tfidf_train_tpr, tfidf_thresholds = roc_curve(y_train_data, lg_tfidf_l2.predict_proba(final_tfidf_train_data)[:,1])\n",
    "tfidf_test_fpr, tfidf_test_tpr, tfidf_thresholds = roc_curve(y_test_data, lg_tfidf_l2.predict_proba(final_tfidf_test_data)[:,1])\n",
    "\n",
    "plt.plot(tfidf_train_fpr, tfidf_train_tpr, label=\"train AUC =\"+str(auc(tfidf_train_fpr, tfidf_train_tpr)))\n",
    "plt.plot(tfidf_test_fpr, tfidf_test_tpr, label=\"test AUC =\"+str(auc(tfidf_test_fpr, tfidf_test_tpr)))\n",
    "plt.legend()\n",
    "plt.xlabel(\"alpha\")\n",
    "plt.ylabel(\"AUC\")\n",
    "plt.title(\"ROC CURVES ON TRAIN AND TEST \")\n",
    "plt.show()"
   ]
  },
  {
   "cell_type": "code",
   "execution_count": 362,
   "metadata": {},
   "outputs": [
    {
     "name": "stdout",
     "output_type": "stream",
     "text": [
      "TFIDF train confusion matrix\n",
      "[[ 7040    92]\n",
      " [    0 35876]]\n"
     ]
    },
    {
     "data": {
      "image/png": "[encoded data removed]",
      "text/plain": [
       "<Figure size 432x288 with 2 Axes>"
      ]
     },
     "metadata": {},
     "output_type": "display_data"
    }
   ],
   "source": [
    "#TFIDF Train data confusion matrix\n",
    "from sklearn.metrics import confusion_matrix\n",
    "print(\"TFIDF train confusion matrix\")\n",
    "tfidf_cm_train = confusion_matrix(lg_tfidf_l2.predict(final_tfidf_train_data),y_train_data)\n",
    "sns.heatmap(tfidf_cm_train, annot=True, fmt=\"d\")\n",
    "plt.title(\"TFIDF  Train confusion matrix with  penalty L2 \")\n",
    "plt.xlabel(\"predictual\")\n",
    "plt.ylabel(\"Actual\")\n",
    "print(tfidf_cm_train)"
   ]
  },
  {
   "cell_type": "markdown",
   "metadata": {},
   "source": [
    "Tfidf train confusion matrix with  penalty L2 <br>\n",
    "35876+7040 are correctly predicted <br>\n",
    "0+92 are in-correctly predicted "
   ]
  },
  {
   "cell_type": "code",
   "execution_count": 878,
   "metadata": {},
   "outputs": [
    {
     "name": "stdout",
     "output_type": "stream",
     "text": [
      "tfidf test confusion matrix\n",
      "[[ 3292  1097]\n",
      " [  936 21007]]\n"
     ]
    },
    {
     "data": {
      "image/png": "[encoded data removed]",
      "text/plain": [
       "<Figure size 432x288 with 2 Axes>"
      ]
     },
     "metadata": {},
     "output_type": "display_data"
    }
   ],
   "source": [
    "#tfidf Test data confusion matrix\n",
    "from sklearn.metrics import confusion_matrix\n",
    "print(\"tfidf test confusion matrix\")\n",
    "tfidf_cm_test = confusion_matrix(lg_tfidf_l2.predict(final_tfidf_test_data),y_test_data)\n",
    "sns.heatmap(tfidf_cm_test, annot=True, fmt=\"d\")\n",
    "plt.title(\"tfidf test confusion matrix with  penalty L2 \")\n",
    "plt.xlabel(\"predictual\")\n",
    "plt.ylabel(\"Actual\")\n",
    "print(tfidf_cm_test)"
   ]
  },
  {
   "cell_type": "markdown",
   "metadata": {},
   "source": [
    "Tfidf test confusion matrix with  penalty L2 <br>\n",
    "21007+3292 are correctly predicted <br>\n",
    "936+1097 are in-correctly predicted "
   ]
  },
  {
   "cell_type": "markdown",
   "metadata": {
    "colab_type": "text",
    "id": "xeeJ8eVvLPpX"
   },
   "source": [
    "### [5.2.3] Feature Importance on TFIDF,<font color='red'> SET 2</font>"
   ]
  },
  {
   "cell_type": "markdown",
   "metadata": {
    "colab_type": "text",
    "id": "Cj9XEmqQLPpY"
   },
   "source": [
    "#### [5.2.3.1] Top 10 important features of positive class from<font color='red'> SET 2</font>"
   ]
  },
  {
   "cell_type": "code",
   "execution_count": 351,
   "metadata": {
    "colab": {},
    "colab_type": "code",
    "id": "RG10txygLPpb"
   },
   "outputs": [
    {
     "name": "stdout",
     "output_type": "stream",
     "text": [
      "TFIDF Positive_Features\n",
      "_________________\n",
      "33.9814\tgoodbewar      \n",
      "29.6799\trecalb         \n",
      "21.7489\tboot           \n",
      "21.5021\tgape           \n",
      "16.6442\tbestcancoffedrink\n",
      "15.9290\tfinicki        \n",
      "15.4644\tyuban          \n",
      "14.7945\ttrulitasti     \n",
      "14.4996\tsnackchoicgenerat\n",
      "14.1469\tgreatb         \n"
     ]
    }
   ],
   "source": [
    "# Please write all the code with proper documentation\n",
    "def show_most_informative_features(tf_idf_vect, lg_tfidf_l1, n=10):\n",
    "    feature_names = count_vect.get_feature_names()\n",
    "    coefs_with_fns = sorted(zip(lg_tfidf_l1.coef_[0], feature_names))\n",
    "    top = coefs_with_fns[:-(n + 1):-1]\n",
    "    print(\"TFIDF Positive_Features\")\n",
    "    print(\"_________________\")\n",
    "    for (coef_1, fn_1) in top:\n",
    "        print(\"%.4f\\t%-15s\" % (coef_1, fn_1))\n",
    "show_most_informative_features(tf_idf_vect,lg_tfidf_l1)"
   ]
  },
  {
   "cell_type": "markdown",
   "metadata": {
    "colab_type": "text",
    "id": "PowEfns4LPpg"
   },
   "source": [
    "#### [5.2.3.2] Top 10 important features of negative class from<font color='red'> SET 2</font>"
   ]
  },
  {
   "cell_type": "code",
   "execution_count": 352,
   "metadata": {
    "colab": {},
    "colab_type": "code",
    "id": "G7jrma95LPpg"
   },
   "outputs": [
    {
     "name": "stdout",
     "output_type": "stream",
     "text": [
      "TFIDF Negative_Features\n",
      "_________________\n",
      "-31.3295\tpromptship     \n",
      "-23.4149\tfavoritteriyakijerki\n",
      "-22.4870\tcmonb          \n",
      "-21.8418\tsentenc        \n",
      "-21.4565\tnissin         \n",
      "-19.2575\tstrangbrewwellreceiv\n",
      "-18.3096\tkenya          \n",
      "-17.4724\tcommiss        \n",
      "-17.2495\tmariob         \n",
      "-17.1965\trefreshminttea \n"
     ]
    }
   ],
   "source": [
    "# Please write all the code with proper documentation\n",
    "def show_most_informative_features(tf_idf_vect, lg_tfidf_l1, n=10):\n",
    "    feature_names = count_vect.get_feature_names()\n",
    "    coefs_with_fns = sorted(zip(lg_tfidf_l1.coef_[0], feature_names))\n",
    "    top = coefs_with_fns[:n]\n",
    "    print(\"TFIDF Negative_Features\")\n",
    "    print(\"_________________\")\n",
    "    for (coef_2, fn_2) in top:\n",
    "        print(\"%.4f\\t%-15s\" % (coef_2, fn_2))\n",
    "show_most_informative_features(tf_idf_vect,lg_tfidf_l1)"
   ]
  },
  {
   "cell_type": "markdown",
   "metadata": {
    "colab_type": "text",
    "id": "sqYadGOgLPpi"
   },
   "source": [
    "## [5.3] Logistic Regression on AVG W2V,<font color='red'> SET 3</font>"
   ]
  },
  {
   "cell_type": "markdown",
   "metadata": {
    "colab_type": "text",
    "id": "kByBCEA1LPpj"
   },
   "source": [
    "### [5.3.1] Applying Logistic Regression with L1 regularization on AVG W2V<font color='red'> SET 3</font>"
   ]
  },
  {
   "cell_type": "code",
   "execution_count": 364,
   "metadata": {
    "colab": {},
    "colab_type": "code",
    "id": "yCQ_4iJkLPpj"
   },
   "outputs": [
    {
     "name": "stdout",
     "output_type": "stream",
     "text": [
      "C =  0.0001 \t cv_auc_score\t: 0.8780970082566242 \t train_auc_score\t: 0.8749579309607277\n",
      "C =  0.001 \t cv_auc_score\t: 0.8900462201082243 \t train_auc_score\t: 0.8880162436844113\n",
      "C =  0.01 \t cv_auc_score\t: 0.8949077367364924 \t train_auc_score\t: 0.8935094511883038\n",
      "C =  0.1 \t cv_auc_score\t: 0.8955376670878147 \t train_auc_score\t: 0.8945156249210156\n",
      "C =  1 \t cv_auc_score\t: 0.8955982734701534 \t train_auc_score\t: 0.8945797049239477\n",
      "C =  10 \t cv_auc_score\t: 0.8956082713113275 \t train_auc_score\t: 0.8945740338476373\n",
      "C =  100 \t cv_auc_score\t: 0.8956103505083858 \t train_auc_score\t: 0.8945738640312855\n",
      "C =  1000 \t cv_auc_score\t: 0.8956098638877976 \t train_auc_score\t: 0.8945738245391106\n",
      "C =  10000 \t cv_auc_score\t: 0.8956104168657388 \t train_auc_score\t: 0.8945738245391105\n"
     ]
    },
    {
     "data": {
      "image/png": "[encoded data removed]",
      "text/plain": [
       "<Figure size 432x288 with 1 Axes>"
      ]
     },
     "metadata": {},
     "output_type": "display_data"
    }
   ],
   "source": [
    "# Please write all the code with proper documentation\n",
    "train_auc = []\n",
    "cv_auc = []\n",
    "C = [0.0001,0.001,0.01,0.1,1,10,100,1000,10000]\n",
    "for i in C:\n",
    "    lg_avgw2v_l1 = LogisticRegression(C=i,class_weight='balanced')# The “balanced” mode uses the values of y to automatically adjust weights inversely proportional to class frequencies\n",
    "    lg_avgw2v_l1.fit(final_avgw2v_train_data, y_train_data)\n",
    "    # roc_auc_score(y_true, y_score) the 2nd parameter should be probability estimates of the positive class\n",
    "    # not the predicted outputs\n",
    "    y_train_pred =  lg_avgw2v_l1.predict_proba(final_avgw2v_train_data)[:,1]\n",
    "    y_cv_pred =  lg_avgw2v_l1.predict_proba(final_avgw2v_cv_data)[:,1]\n",
    "    train_auc_score=roc_auc_score(y_train_data,y_train_pred)\n",
    "    train_auc.append(train_auc_score)\n",
    "    cv_auc_score=roc_auc_score(y_cv_data, y_cv_pred)\n",
    "    cv_auc.append(cv_auc_score)\n",
    "    print(\"C = \",i ,\"\\t\",\"cv_auc_score\\t:\",cv_auc_score, \"\\t\",\"train_auc_score\\t:\",train_auc_score)\n",
    "\n",
    "#plotting \n",
    "log_c = [math.log10(num) for num in C]\n",
    "plt.plot(log_c, train_auc, label='Train AUC')\n",
    "plt.plot(log_c, cv_auc, label='CV AUC')\n",
    "plt.legend()\n",
    "plt.xlabel(\"log_c\")\n",
    "plt.ylabel(\"AUC\")\n",
    "plt.title(\"AUC vs C\")\n",
    "plt.show()"
   ]
  },
  {
   "cell_type": "markdown",
   "metadata": {},
   "source": [
    "Here we got avgw2v optimal C = 0.1 <br>\n",
    "At    cv_auc    = 0.895<br>\n",
    "      train_auc = 0.894"
   ]
  },
  {
   "cell_type": "code",
   "execution_count": 376,
   "metadata": {},
   "outputs": [
    {
     "data": {
      "image/png": "[encoded data removed]",
      "text/plain": [
       "<Figure size 432x288 with 1 Axes>"
      ]
     },
     "metadata": {},
     "output_type": "display_data"
    }
   ],
   "source": [
    "#applyng logistic regression with l1 penalty \n",
    "lg_avgw2v_l1 = LogisticRegression(C=0.1,penalty= 'l1' ,class_weight='balanced')\n",
    "lg_avgw2v_l1.fit(final_avgw2v_train_data, y_train_data)\n",
    "\n",
    "\n",
    "avgw2v_train_fpr, avgw2v_train_tpr, avgw2v_thresholds = roc_curve(y_train_data, lg_avgw2v_l1.predict_proba(final_avgw2v_train_data)[:,1])\n",
    "avgw2v_test_fpr, avgw2v_test_tpr, avgw2v_thresholds = roc_curve(y_test_data, lg_avgw2v_l1.predict_proba(final_avgw2v_test_data)[:,1])\n",
    "\n",
    "plt.plot(avgw2v_train_fpr, avgw2v_train_tpr, label=\"train AUC =\"+str(auc(avgw2v_train_fpr, avgw2v_train_tpr)))\n",
    "plt.plot(avgw2v_test_fpr, avgw2v_test_tpr, label=\"test AUC =\"+str(auc(avgw2v_test_fpr, avgw2v_test_tpr)))\n",
    "plt.legend()\n",
    "plt.xlabel(\"alpha\")\n",
    "plt.ylabel(\"AUC\")\n",
    "plt.title(\"ROC CURVES ON TRAIN AND TEST \")\n",
    "plt.show()"
   ]
  },
  {
   "cell_type": "code",
   "execution_count": 881,
   "metadata": {},
   "outputs": [
    {
     "name": "stdout",
     "output_type": "stream",
     "text": [
      "avgw2v train confusion matrix\n",
      "[[ 5859  7213]\n",
      " [ 1181 28755]]\n"
     ]
    },
    {
     "data": {
      "image/png": "[encoded data removed]",
      "text/plain": [
       "<Figure size 432x288 with 2 Axes>"
      ]
     },
     "metadata": {},
     "output_type": "display_data"
    }
   ],
   "source": [
    "#Avgw2v Train data confusion matrix\n",
    "from sklearn.metrics import confusion_matrix\n",
    "print(\"avgw2v train confusion matrix\")\n",
    "avgw2v_cm_train = confusion_matrix(lg_avgw2v_l1.predict(final_avgw2v_train_data),y_train_data)\n",
    "sns.heatmap(avgw2v_cm_train, annot=True, fmt=\"d\")\n",
    "plt.title(\"avgw2v Train confusion matrix with  penalty L1 \")\n",
    "plt.xlabel(\"predictual\")\n",
    "plt.ylabel(\"Actual\")\n",
    "print(avgw2v_cm_train)"
   ]
  },
  {
   "cell_type": "markdown",
   "metadata": {},
   "source": [
    "avgw2v train confusion matrix with  penalty L1 <br>\n",
    "28755+5859 are correctly predicted <br>\n",
    "1181+7213 are in-correctly predicted "
   ]
  },
  {
   "cell_type": "code",
   "execution_count": 883,
   "metadata": {},
   "outputs": [
    {
     "name": "stdout",
     "output_type": "stream",
     "text": [
      "avgw2v test confusion matrix\n",
      "[[ 3480  4452]\n",
      " [  748 17652]]\n"
     ]
    },
    {
     "data": {
      "image/png": "[encoded data removed]",
      "text/plain": [
       "<Figure size 432x288 with 2 Axes>"
      ]
     },
     "metadata": {},
     "output_type": "display_data"
    }
   ],
   "source": [
    "#avgw2v Test data confusion matrix\n",
    "from sklearn.metrics import confusion_matrix\n",
    "print(\"avgw2v test confusion matrix\")\n",
    "avgw2v_cm_test = confusion_matrix(lg_avgw2v_l1.predict(final_avgw2v_test_data),y_test_data)\n",
    "sns.heatmap(avgw2v_cm_test, annot=True, fmt=\"d\")\n",
    "plt.title(\"avgw2v test confusion matrix with  penalty L1 \")\n",
    "plt.xlabel(\"predictual\")\n",
    "plt.ylabel(\"Actual\")\n",
    "print(avgw2v_cm_test)"
   ]
  },
  {
   "cell_type": "markdown",
   "metadata": {},
   "source": [
    "avgw2v test confusion matrix with  penalty L1 <br>\n",
    "17652+3480 are correctly predicted <br>\n",
    "748+4452 are in-correctly predicted"
   ]
  },
  {
   "cell_type": "markdown",
   "metadata": {
    "colab_type": "text",
    "id": "O_8Gu2SfLPpn"
   },
   "source": [
    "### [5.3.2] Applying Logistic Regression with L2 regularization on AVG W2V,<font color='red'> SET 3</font>"
   ]
  },
  {
   "cell_type": "code",
   "execution_count": 379,
   "metadata": {
    "colab": {},
    "colab_type": "code",
    "id": "Zy3s4jk1LPpn"
   },
   "outputs": [
    {
     "data": {
      "image/png": "[encoded data removed]",
      "text/plain": [
       "<Figure size 432x288 with 1 Axes>"
      ]
     },
     "metadata": {},
     "output_type": "display_data"
    }
   ],
   "source": [
    "# Please write all the code with proper documentation\n",
    "#applyng logistic regression with l2 penalty \n",
    "lg_avgw2v_l2 = LogisticRegression(C=0.1,penalty= 'l2' ,class_weight='balanced')\n",
    "lg_avgw2v_l2.fit(final_avgw2v_train_data, y_train_data)\n",
    "\n",
    "\n",
    "avgw2v_train_fpr, avgw2v_train_tpr, avgw2v_thresholds = roc_curve(y_train_data, lg_avgw2v_l2.predict_proba(final_avgw2v_train_data)[:,1])\n",
    "avgw2v_test_fpr, avgw2v_test_tpr, avgw2v_thresholds = roc_curve(y_test_data, lg_avgw2v_l2.predict_proba(final_avgw2v_test_data)[:,1])\n",
    "\n",
    "plt.plot(avgw2v_train_fpr, avgw2v_train_tpr, label=\"train AUC =\"+str(auc(avgw2v_train_fpr, avgw2v_train_tpr)))\n",
    "plt.plot(avgw2v_test_fpr, avgw2v_test_tpr, label=\"test AUC =\"+str(auc(avgw2v_test_fpr, avgw2v_test_tpr)))\n",
    "plt.legend()\n",
    "plt.xlabel(\"alpha\")\n",
    "plt.ylabel(\"AUC\")\n",
    "plt.title(\"ROC CURVES ON TRAIN AND TEST \")\n",
    "plt.show()"
   ]
  },
  {
   "cell_type": "code",
   "execution_count": 885,
   "metadata": {},
   "outputs": [
    {
     "name": "stdout",
     "output_type": "stream",
     "text": [
      "avgw2v train confusion matrix\n",
      "[[ 5862  7231]\n",
      " [ 1178 28737]]\n"
     ]
    },
    {
     "data": {
      "image/png": "[encoded data removed]",
      "text/plain": [
       "<Figure size 432x288 with 2 Axes>"
      ]
     },
     "metadata": {},
     "output_type": "display_data"
    }
   ],
   "source": [
    "#avgw2v train data confusion matrix\n",
    "from sklearn.metrics import confusion_matrix\n",
    "print(\"avgw2v train confusion matrix\")\n",
    "avgw2v_cm_train = confusion_matrix(lg_avgw2v_l2.predict(final_avgw2v_train_data),y_train_data)\n",
    "sns.heatmap(avgw2v_cm_train, annot=True, fmt=\"d\")\n",
    "plt.title(\"avgw2v train confusion matrix with  penalty L2 \")\n",
    "plt.xlabel(\"predictual\")\n",
    "plt.ylabel(\"Actual\")\n",
    "print(avgw2v_cm_train)"
   ]
  },
  {
   "cell_type": "markdown",
   "metadata": {},
   "source": [
    "avgw2v train confusion matrix with  penalty L2 <br>\n",
    "28737+5862 are correctly predicted <br>\n",
    "1178+7231 are in-correctly predicted"
   ]
  },
  {
   "cell_type": "code",
   "execution_count": 886,
   "metadata": {},
   "outputs": [
    {
     "name": "stdout",
     "output_type": "stream",
     "text": [
      "avgw2v test confusion matrix\n",
      "[[ 3476  4429]\n",
      " [  752 17675]]\n"
     ]
    },
    {
     "data": {
      "image/png": "[encoded data removed]",
      "text/plain": [
       "<Figure size 432x288 with 2 Axes>"
      ]
     },
     "metadata": {},
     "output_type": "display_data"
    }
   ],
   "source": [
    "#avgw2v Test data confusion matrix\n",
    "from sklearn.metrics import confusion_matrix\n",
    "print(\"avgw2v test confusion matrix\")\n",
    "avgw2v_cm_test = confusion_matrix(lg_avgw2v_l2.predict(final_avgw2v_test_data),y_test_data)\n",
    "sns.heatmap(avgw2v_cm_test, annot=True, fmt=\"d\")\n",
    "plt.title(\"avgw2v test confusion matrix with  penalty L2 \")\n",
    "plt.xlabel(\"predictual\")\n",
    "plt.ylabel(\"Actual\")\n",
    "print(avgw2v_cm_test)"
   ]
  },
  {
   "cell_type": "markdown",
   "metadata": {},
   "source": [
    "avgw2v test confusion matrix with  penalty L2 <br>\n",
    "17675+3476 are correctly predicted <br>\n",
    "752+4429 are in-correctly predicted"
   ]
  },
  {
   "cell_type": "markdown",
   "metadata": {
    "colab_type": "text",
    "id": "pdXTwVIPLPpp"
   },
   "source": [
    "## [5.4] Logistic Regression on TFIDF W2V,<font color='red'> SET 4</font>"
   ]
  },
  {
   "cell_type": "markdown",
   "metadata": {
    "colab_type": "text",
    "id": "WP9NjwNSLPpp"
   },
   "source": [
    "### [5.4.1] Applying Logistic Regression with L1 regularization on TFIDF W2V,<font color='red'> SET 4</font>"
   ]
  },
  {
   "cell_type": "code",
   "execution_count": 371,
   "metadata": {
    "colab": {},
    "colab_type": "code",
    "id": "207gYymwLPpq"
   },
   "outputs": [
    {
     "name": "stdout",
     "output_type": "stream",
     "text": [
      "C =  0.0001 \t cv_auc_score\t: 0.8507479358439416 \t train_auc_score\t: 0.8461530731704696\n",
      "C =  0.001 \t cv_auc_score\t: 0.8654318005669572 \t train_auc_score\t: 0.8617863428318859\n",
      "C =  0.01 \t cv_auc_score\t: 0.8719913354992372 \t train_auc_score\t: 0.8690089956065746\n",
      "C =  0.1 \t cv_auc_score\t: 0.8727120205902441 \t train_auc_score\t: 0.8701377175071023\n",
      "C =  1 \t cv_auc_score\t: 0.8727010273887763 \t train_auc_score\t: 0.8701730353590817\n",
      "C =  10 \t cv_auc_score\t: 0.8726928433152489 \t train_auc_score\t: 0.8701704012310184\n",
      "C =  100 \t cv_auc_score\t: 0.8726924230520137 \t train_auc_score\t: 0.8701698878327453\n",
      "C =  1000 \t cv_auc_score\t: 0.8726921576226019 \t train_auc_score\t: 0.8701698957311802\n",
      "C =  10000 \t cv_auc_score\t: 0.8726923788137783 \t train_auc_score\t: 0.8701697140671759\n"
     ]
    },
    {
     "data": {
      "image/png": "[encoded data removed]",
      "text/plain": [
       "<Figure size 432x288 with 1 Axes>"
      ]
     },
     "metadata": {},
     "output_type": "display_data"
    }
   ],
   "source": [
    "# Please write all the code with proper documentation\n",
    "train_auc = []\n",
    "cv_auc = []\n",
    "C = [0.0001,0.001,0.01,0.1,1,10,100,1000,10000]\n",
    "for i in C:\n",
    "    lg_tfidfw2v_l1 = LogisticRegression(C=i,class_weight='balanced')# The “balanced” mode uses the values of y to automatically adjust weights inversely proportional to class frequencies\n",
    "    lg_tfidfw2v_l1.fit(final_tfidfw2v_train_data, y_train_data)\n",
    "    # roc_auc_score(y_true, y_score) the 2nd parameter should be probability estimates of the positive class\n",
    "    # not the predicted outputs\n",
    "    y_train_pred =  lg_tfidfw2v_l1.predict_proba(final_tfidfw2v_train_data)[:,1]\n",
    "    y_cv_pred =  lg_tfidfw2v_l1.predict_proba(final_tfidfw2v_cv_data)[:,1]\n",
    "    train_auc_score=roc_auc_score(y_train_data,y_train_pred)\n",
    "    train_auc.append(train_auc_score)\n",
    "    cv_auc_score=roc_auc_score(y_cv_data, y_cv_pred)\n",
    "    cv_auc.append(cv_auc_score)\n",
    "    print(\"C = \",i ,\"\\t\",\"cv_auc_score\\t:\",cv_auc_score, \"\\t\",\"train_auc_score\\t:\",train_auc_score)\n",
    "\n",
    "#plotting \n",
    "log_c = [math.log10(num) for num in C]\n",
    "plt.plot(log_c, train_auc, label='Train AUC')\n",
    "plt.plot(log_c, cv_auc, label='CV AUC')\n",
    "plt.legend()\n",
    "plt.xlabel(\"log_c\")\n",
    "plt.ylabel(\"AUC\")\n",
    "plt.title(\"AUC vs C\")\n",
    "plt.show()"
   ]
  },
  {
   "cell_type": "markdown",
   "metadata": {},
   "source": [
    "Here we got tfidfw2v optimal C = 0.1 <br>\n",
    "At    cv_auc    = 0.872<br>\n",
    "      train_auc = 0.870\n"
   ]
  },
  {
   "cell_type": "code",
   "execution_count": 372,
   "metadata": {},
   "outputs": [
    {
     "data": {
      "image/png": "[encoded data removed]",
      "text/plain": [
       "<Figure size 432x288 with 1 Axes>"
      ]
     },
     "metadata": {},
     "output_type": "display_data"
    }
   ],
   "source": [
    "lg_tfidfw2v_l1 = LogisticRegression(C=0.1,penalty= 'l1' ,class_weight='balanced')\n",
    "lg_tfidfw2v_l1.fit(final_tfidfw2v_train_data, y_train_data)\n",
    "\n",
    "\n",
    "tfidfw2v_train_fpr, tfidfw2v_train_tpr, tfidfw2v_thresholds = roc_curve(y_train_data, lg_tfidfw2v_l1.predict_proba(final_tfidfw2v_train_data)[:,1])\n",
    "tfidfw2v_test_fpr, tfidfw2v_test_tpr, tfidfw2v_thresholds = roc_curve(y_test_data, lg_tfidfw2v_l1.predict_proba(final_tfidfw2v_test_data)[:,1])\n",
    "\n",
    "plt.plot(tfidfw2v_train_fpr, tfidfw2v_train_tpr, label=\"train AUC =\"+str(auc(tfidfw2v_train_fpr, tfidfw2v_train_tpr)))\n",
    "plt.plot(tfidfw2v_test_fpr, tfidfw2v_test_tpr, label=\"test AUC =\"+str(auc(tfidfw2v_test_fpr, tfidfw2v_test_tpr)))\n",
    "plt.legend()\n",
    "plt.xlabel(\"alpha\")\n",
    "plt.ylabel(\"AUC\")\n",
    "plt.title(\"ROC CURVES ON TRAIN AND TEST \")\n",
    "plt.show()"
   ]
  },
  {
   "cell_type": "code",
   "execution_count": 373,
   "metadata": {},
   "outputs": [
    {
     "name": "stdout",
     "output_type": "stream",
     "text": [
      "tfidfw2v train confusion matrix\n",
      "[[ 5670  7979]\n",
      " [ 1370 27989]]\n"
     ]
    },
    {
     "data": {
      "image/png": "[encoded data removed]",
      "text/plain": [
       "<Figure size 432x288 with 2 Axes>"
      ]
     },
     "metadata": {},
     "output_type": "display_data"
    }
   ],
   "source": [
    "#tfidfw2v Train data confusion matrix\n",
    "from sklearn.metrics import confusion_matrix\n",
    "print(\"tfidfw2v train confusion matrix\")\n",
    "tfidfw2v_cm_train = confusion_matrix(lg_tfidfw2v_l1.predict(final_tfidfw2v_train_data),y_train_data)\n",
    "sns.heatmap(tfidfw2v_cm_train, annot=True, fmt=\"d\")\n",
    "plt.title(\"tfidfw2v Train confusion matrix with  penalty L1 \")\n",
    "plt.xlabel(\"predictual\")\n",
    "plt.ylabel(\"Actual\")\n",
    "print(tfidfw2v_cm_train)"
   ]
  },
  {
   "cell_type": "markdown",
   "metadata": {},
   "source": [
    "tfidfw2v train confusion matrix with  penalty L1 <br>\n",
    "27989+5670 are correctly predicted <br>\n",
    "1370+7979 are in-correctly predicted"
   ]
  },
  {
   "cell_type": "code",
   "execution_count": 374,
   "metadata": {},
   "outputs": [
    {
     "name": "stdout",
     "output_type": "stream",
     "text": [
      "tfidfw2v train confusion matrix\n",
      "[[ 3383  4948]\n",
      " [  845 17156]]\n"
     ]
    },
    {
     "data": {
      "image/png": "[encoded data removed]",
      "text/plain": [
       "<Figure size 432x288 with 2 Axes>"
      ]
     },
     "metadata": {},
     "output_type": "display_data"
    }
   ],
   "source": [
    "#tfidfw2v Test data confusion matrix\n",
    "from sklearn.metrics import confusion_matrix\n",
    "print(\"tfidfw2v train confusion matrix\")\n",
    "tfidfw2v_cm_test = confusion_matrix(lg_tfidfw2v_l1.predict(final_tfidfw2v_test_data),y_test_data)\n",
    "sns.heatmap(tfidfw2v_cm_test, annot=True, fmt=\"d\")\n",
    "plt.title(\"tfidfw2v Train confusion matrix with  penalty L1 \")\n",
    "plt.xlabel(\"predictual\")\n",
    "plt.ylabel(\"Actual\")\n",
    "print(tfidfw2v_cm_test)"
   ]
  },
  {
   "cell_type": "markdown",
   "metadata": {},
   "source": [
    "tfidfw2v test confusion matrix with  penalty L1 <br>\n",
    "17156+3383 are correctly predicted <br>\n",
    "845+4948 are in-correctly predicted"
   ]
  },
  {
   "cell_type": "markdown",
   "metadata": {
    "colab_type": "text",
    "id": "ynUK2tYDLPps"
   },
   "source": [
    "### [5.4.2] Applying Logistic Regression with L2 regularization on TFIDF W2V,<font color='red'> SET 4</font>"
   ]
  },
  {
   "cell_type": "code",
   "execution_count": 375,
   "metadata": {
    "colab": {},
    "colab_type": "code",
    "id": "hVYuiXl2LPpt"
   },
   "outputs": [
    {
     "data": {
      "image/png": "[encoded data removed]",
      "text/plain": [
       "<Figure size 432x288 with 1 Axes>"
      ]
     },
     "metadata": {},
     "output_type": "display_data"
    }
   ],
   "source": [
    "# Please write all the code with proper documentation\n",
    "lg_tfidfw2v_l2 = LogisticRegression(C=0.1,penalty= 'l2' ,class_weight='balanced')\n",
    "lg_tfidfw2v_l2.fit(final_tfidfw2v_train_data, y_train_data)\n",
    "\n",
    "\n",
    "tfidfw2v_train_fpr, tfidfw2v_train_tpr, tfidfw2v_thresholds = roc_curve(y_train_data, lg_tfidfw2v_l2.predict_proba(final_tfidfw2v_train_data)[:,1])\n",
    "tfidfw2v_test_fpr, tfidfw2v_test_tpr, tfidfw2v_thresholds = roc_curve(y_test_data, lg_tfidfw2v_l2.predict_proba(final_tfidfw2v_test_data)[:,1])\n",
    "\n",
    "plt.plot(tfidfw2v_train_fpr, tfidfw2v_train_tpr, label=\"train AUC =\"+str(auc(tfidfw2v_train_fpr, tfidfw2v_train_tpr)))\n",
    "plt.plot(tfidfw2v_test_fpr, tfidfw2v_test_tpr, label=\"test AUC =\"+str(auc(tfidfw2v_test_fpr, tfidfw2v_test_tpr)))\n",
    "plt.legend()\n",
    "plt.xlabel(\"alpha\")\n",
    "plt.ylabel(\"AUC\")\n",
    "plt.title(\"ROC CURVES ON TRAIN AND TEST \")\n",
    "plt.show()"
   ]
  },
  {
   "cell_type": "code",
   "execution_count": 888,
   "metadata": {},
   "outputs": [
    {
     "name": "stdout",
     "output_type": "stream",
     "text": [
      "tfidfw2v train confusion matrix\n",
      "[[ 5670  8008]\n",
      " [ 1370 27960]]\n"
     ]
    },
    {
     "data": {
      "image/png": "[encoded data removed]",
      "text/plain": [
       "<Figure size 432x288 with 2 Axes>"
      ]
     },
     "metadata": {},
     "output_type": "display_data"
    }
   ],
   "source": [
    "#tfidfw2v Train data confusion matrix\n",
    "from sklearn.metrics import confusion_matrix\n",
    "print(\"tfidfw2v train confusion matrix\")\n",
    "tfidfw2v_cm_train = confusion_matrix(lg_tfidfw2v_l2.predict(final_tfidfw2v_train_data),y_train_data)\n",
    "sns.heatmap(tfidfw2v_cm_train, annot=True, fmt=\"d\")\n",
    "plt.title(\"tfidfw2v Train confusion matrix with  penalty L2 \")\n",
    "plt.xlabel(\"predictual\")\n",
    "plt.ylabel(\"Actual\")\n",
    "print(tfidfw2v_cm_train)"
   ]
  },
  {
   "cell_type": "markdown",
   "metadata": {},
   "source": [
    "tfidfw2v train confusion matrix with  penalty L2 <br>\n",
    "27960+5670 are correctly predicted <br>\n",
    "1370+8008 are in-correctly predicted"
   ]
  },
  {
   "cell_type": "code",
   "execution_count": 889,
   "metadata": {},
   "outputs": [
    {
     "name": "stdout",
     "output_type": "stream",
     "text": [
      "tfidfw2v train confusion matrix\n",
      "[[ 3390  4967]\n",
      " [  838 17137]]\n"
     ]
    },
    {
     "data": {
      "image/png": "[encoded data removed]",
      "text/plain": [
       "<Figure size 432x288 with 2 Axes>"
      ]
     },
     "metadata": {},
     "output_type": "display_data"
    }
   ],
   "source": [
    "#tfidfw2v Test data confusion matrix\n",
    "from sklearn.metrics import confusion_matrix\n",
    "print(\"tfidfw2v train confusion matrix\")\n",
    "tfidfw2v_cm_test = confusion_matrix(lg_tfidfw2v_l2.predict(final_tfidfw2v_test_data),y_test_data)\n",
    "sns.heatmap(tfidfw2v_cm_test, annot=True, fmt=\"d\")\n",
    "plt.title(\"tfidfw2v Train confusion matrix with  penalty L2 \")\n",
    "plt.xlabel(\"predictual\")\n",
    "plt.ylabel(\"Actual\")\n",
    "print(tfidfw2v_cm_test)"
   ]
  },
  {
   "cell_type": "markdown",
   "metadata": {},
   "source": [
    "tfidfw2v test confusion matrix with  penalty L2 <br>\n",
    "17137+3390 are correctly predicted <br>\n",
    "838+4967 are in-correctly predicted"
   ]
  },
  {
   "cell_type": "markdown",
   "metadata": {
    "colab_type": "text",
    "id": "nOvsBNf2LPpv"
   },
   "source": [
    "# [6] Conclusions"
   ]
  },
  {
   "cell_type": "code",
   "execution_count": 897,
   "metadata": {
    "colab": {},
    "colab_type": "code",
    "id": "T7VxD0q2LPpw"
   },
   "outputs": [
    {
     "name": "stdout",
     "output_type": "stream",
     "text": [
      "+------------+--------------------+------------+---------+-----------+--------+----------+\n",
      "| Vectorizer |       Model        | Best Alpha | penalty | Train_Auc | cv_auc | test_auc |\n",
      "+------------+--------------------+------------+---------+-----------+--------+----------+\n",
      "|    BOW     | LogisticRegression |    0.1     |    L1   |    0.95   |  0.93  |   0.93   |\n",
      "|   TF-IDf   | LogisticRegression |     10     |    L1   |    0.99   |  0.95  |   0.94   |\n",
      "|   AVGW2V   | LogisticRegression |    0.1     |    L1   |    0.89   |  0.89  |   0.89   |\n",
      "|  TFIDFW2v  | LogisticRegression |    0.1     |    L1   |    0.87   |  0.87  |   0.86   |\n",
      "+------------+--------------------+------------+---------+-----------+--------+----------+\n",
      "****************************************************************************************************\n",
      "+------------+--------------------+------------+---------+-----------+--------+----------+\n",
      "| Vectorizer |       Model        | Best Alpha | penalty | Train_Auc | cv_auc | test_auc |\n",
      "+------------+--------------------+------------+---------+-----------+--------+----------+\n",
      "|    BOW     | LogisticRegression |    0.1     |    L2   |    0.95   |  0.93  |   0.93   |\n",
      "|   TF-IDf   | LogisticRegression |     10     |    L2   |    0.99   |  0.95  |   0.95   |\n",
      "|   AVGW2V   | LogisticRegression |    0.1     |    L2   |    0.89   |  0.89  |   0.89   |\n",
      "|  TFIDFW2v  | LogisticRegression |    0.1     |    L2   |    0.87   |  0.87  |   0.86   |\n",
      "+------------+--------------------+------------+---------+-----------+--------+----------+\n"
     ]
    }
   ],
   "source": [
    "# Please compare all your models using Prettytable library\n",
    "#compare all your models using Prettytable library\n",
    "#ref : http://zetcode.com/python/prettytable/\n",
    "from prettytable import PrettyTable\n",
    "    \n",
    "x = PrettyTable()\n",
    "\n",
    "x.field_names = [\"Vectorizer\", \"Model\", \"Best Alpha\",\"penalty\", \"Train_Auc\",\"cv_auc\",\"test_auc\"]\n",
    "\n",
    "x.add_row([\"BOW\", \"LogisticRegression\",0.1,\"L1\",0.95,0.93,0.93])\n",
    "x.add_row([\"TF-IDf\",\"LogisticRegression\",10,\"L1\",0.99,0.95,0.94 ])\n",
    "x.add_row([\"AVGW2V\", \"LogisticRegression\",0.1,\"L1\",0.89,0.89,0.89])\n",
    "x.add_row([\"TFIDFW2v\", \"LogisticRegression\",0.1,\"L1\",0.87,0.87,0.86])\n",
    "x1 = PrettyTable()\n",
    "\n",
    "x1.field_names = [\"Vectorizer\", \"Model\", \"Best Alpha\",\"penalty\", \"Train_Auc\",\"cv_auc\",\"test_auc\"]\n",
    "x1.add_row([\"BOW\", \"LogisticRegression\",0.1,\"L2\",0.95,0.93,0.93])\n",
    "x1.add_row([\"TF-IDf\",\"LogisticRegression\",10,\"L2\",0.99,0.95,0.95 ])\n",
    "x1.add_row([\"AVGW2V\", \"LogisticRegression\",0.1,\"L2\",0.89,0.89,0.89])\n",
    "x1.add_row([\"TFIDFW2v\", \"LogisticRegression\",0.1,\"L2\",0.87,0.87,0.86])\n",
    "\n",
    "print(x)\n",
    "print(\"*\"*100)\n",
    "print(x1)\n"
   ]
  },
  {
   "cell_type": "markdown",
   "metadata": {},
   "source": [
    "<h3>OBSERVATIONS</h3><br>\n",
    "1.Here we got the best vectorizer is TFIDF which gives 0.95 Test auc score using L2 and L1 we got 0.94 Test auc both L1 and L2 are gives equal performance on TFIDF VEctoerizer <br>\n",
    "2.After TFIDF next second vecterizer us BOW which also performs nearly with TFIDF both L1 and L2 penalit's<br>\n",
    "3.We got the optimal C is 0.1 Which is from Bow vectorizer for  both L1 and L2 <br>\n",
    "4.Performed feature Engineering by merging columns length of cleaned text and  cleaned summary text which improves the score results <br>\n",
    "5.Pertubation test is done at Bow vectorizer with L1 penalty which says there is a much difference between weights after 99.8 % so it will be consider as multicolinear <br>\n",
    "6.Printed the features have more difference in weight's\n",
    "7.Overall the final result is in Logistic Regression TFIDF Vectorizer performs good , in confusion matrix also TFIDF performs good  predictions in both L1 and L2 penalty's <br>\n",
    "8.Avgw2v and TFIDFw2v performs average performance's with L1 and L2 penalty's <br>\n",
    "9.model performances BOW ,TFIDF ,AVGW2v, & TFIDFW2V gives similar performances in both L1 and L2 penalty's  <br>\n",
    "10.We get good positive and negative features by using most_informative_features ,compare to naive bayes we get good positive and negative features in Logistic Regression "
   ]
  }
 ],
 "metadata": {
  "colab": {
   "name": "05 Amazon Fine Food Reviews Analysis_Logistic Regression.ipynb",
   "provenance": [],
   "version": "0.3.2"
  },
  "kernelspec": {
   "display_name": "Python 3",
   "language": "python",
   "name": "python3"
  },
  "language_info": {
   "codemirror_mode": {
    "name": "ipython",
    "version": 3
   },
   "file_extension": ".py",
   "mimetype": "text/x-python",
   "name": "python",
   "nbconvert_exporter": "python",
   "pygments_lexer": "ipython3",
   "version": "3.6.5"
  }
 },
 "nbformat": 4,
 "nbformat_minor": 1
}
